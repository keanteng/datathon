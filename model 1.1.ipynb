{
 "cells": [
  {
   "cell_type": "markdown",
   "metadata": {},
   "source": [
    "The data set can be found from here: \n",
    "https://open.dosm.gov.my/data-catalogue/labour_labourforce_monthly_16"
   ]
  },
  {
   "cell_type": "markdown",
   "metadata": {},
   "source": [
    "# 1. Import Library"
   ]
  },
  {
   "cell_type": "markdown",
   "metadata": {},
   "source": [
    "Idea: by States\n",
    "       "
   ]
  },
  {
   "cell_type": "code",
   "execution_count": 53,
   "metadata": {},
   "outputs": [],
   "source": [
    "# Setup notebook\n",
    "from pathlib import Path\n",
    "import ipywidgets as widgets\n",
    "import pandas as pd\n",
    "import matplotlib.pyplot as plt\n",
    "from sklearn.linear_model import LinearRegression\n",
    "from sklearn.multioutput import RegressorChain\n",
    "from sklearn.preprocessing import LabelEncoder\n",
    "from xgboost import XGBRegressor\n",
    "import seaborn as sns\n",
    "from statsmodels.tsa.stattools import adfuller\n",
    "from pmdarima.arima import auto_arima\n",
    "from math import sqrt\n",
    "from sklearn.metrics import mean_squared_error\n",
    "from statsmodels.tsa.deterministic import DeterministicProcess\n",
    "from statsmodels.tsa.deterministic import CalendarFourier, DeterministicProcess\n",
    "import numpy as np"
   ]
  },
  {
   "cell_type": "markdown",
   "metadata": {},
   "source": [
    "# 2. Load Dataset"
   ]
  },
  {
   "cell_type": "code",
   "execution_count": null,
   "metadata": {},
   "outputs": [],
   "source": [
    "# import data set\n",
    "data_dir = Path('../datathon')\n",
    "\n",
    "# read data set\n",
    "df = pd.read_csv(data_dir / 'labourforce_monthly.csv', index_col = [0], parse_dates=[0])\n",
    "df.head()"
   ]
  },
  {
   "cell_type": "code",
   "execution_count": null,
   "metadata": {},
   "outputs": [],
   "source": [
    "# remove the empty columns\n",
    "df = df.dropna(axis=1, how='all')\n",
    "\n",
    "# Remove all the unnecessary columns only left the date and unemployed columns\n",
    "df = df[['unemployed']]\n",
    "\n",
    "# let df start from 2020\n",
    "df = df.loc['2020':]\n",
    "\n",
    "# plot the data set\n",
    "fig, ax = plt.subplots(figsize=(8, 4))\n",
    "plt.plot(df.index, df.unemployed, label='train')\n",
    "\n",
    "# add title and legend to the plot\n",
    "plt.title('Unemployed Rate from 2010 to 2023 in Malaysia')\n",
    "\n",
    "display(df.head())"
   ]
  },
  {
   "cell_type": "markdown",
   "metadata": {},
   "source": [
    "# 4. Split the Data set into train and test set"
   ]
  },
  {
   "cell_type": "code",
   "execution_count": null,
   "metadata": {},
   "outputs": [],
   "source": [
    "import matplotlib.pyplot as plt\n",
    "# split the data set into train and test with 80% and 20% respectively\n",
    "train = df.iloc[:int(len(df)*0.8)]\n",
    "test = df.iloc[int(len(df)*0.8):]\n",
    "\n",
    "train.shape, test.shape"
   ]
  },
  {
   "cell_type": "markdown",
   "metadata": {},
   "source": [
    "# 5. Linear Regression with Time Series"
   ]
  },
  {
   "cell_type": "code",
   "execution_count": null,
   "metadata": {},
   "outputs": [],
   "source": [
    "test"
   ]
  },
  {
   "cell_type": "code",
   "execution_count": null,
   "metadata": {},
   "outputs": [],
   "source": [
    "# make the regression plot\n",
    "fig, ax = plt.subplots()\n",
    "ax.plot(train.index, \"unemployed\", data = train, label='observed', color='#006699')\n",
    "ax.set_title('Time Plot of Unemployment rate from 2010 to 2019 in Malaysia')\n",
    "plt.xlabel('Date')\n",
    "plt.ylabel('Unemployment Rate')\n",
    "plt.show()"
   ]
  },
  {
   "cell_type": "markdown",
   "metadata": {},
   "source": [
    "## 5.1 Fit the feature"
   ]
  },
  {
   "cell_type": "markdown",
   "metadata": {},
   "source": [
    "### 5.1.1 Create Trend Feature"
   ]
  },
  {
   "cell_type": "code",
   "execution_count": null,
   "metadata": {},
   "outputs": [],
   "source": [
    "moving_average = df.unemployed.rolling(\n",
    "    window=12,       # 12-months window\n",
    "    center=True,      # puts the average at the center of the window\n",
    "    min_periods=6,  # choose about half the window size\n",
    ").mean()              # compute the mean (could also do median, std, min, max, ...)\n",
    "\n",
    "ax = df.unemployed.plot(style=\".\", color=\"0.5\")\n",
    "moving_average.plot(\n",
    "    ax=ax, linewidth=3, title=\"Unemployment rate\", legend=False,\n",
    ")"
   ]
  },
  {
   "cell_type": "code",
   "execution_count": null,
   "metadata": {},
   "outputs": [],
   "source": [
    "train['count'] = range(1, len(train) + 1)\n",
    "\n",
    "X = train[['count']]  # features\n",
    "y = train['unemployed']  # target\n",
    "\n",
    "# create the trend feature\n",
    "dp = DeterministicProcess(\n",
    "    index=train.index,  # dates from the training data\n",
    "    constant=True,       # dummy feature for the bias (y_intercept)\n",
    "    order=2,             # the time dummy (trend)\n",
    "    drop=True,           # drop terms if necessary to avoid collinearity\n",
    ")\n",
    "\n",
    "X = dp.in_sample()\n",
    "X"
   ]
  },
  {
   "cell_type": "markdown",
   "metadata": {},
   "source": [
    "### 5.1.2 Create Seasonality"
   ]
  },
  {
   "cell_type": "code",
   "execution_count": null,
   "metadata": {},
   "outputs": [],
   "source": [
    "# Assuming you have the 'train' DataFrame with a date column\n",
    "# Convert the date column to a DateTimeIndex\n",
    "#train['date'] = pd.to_datetime(train['date'])\n",
    "#train.index = train['date']\n",
    "\n",
    "# Calculate the quarter for each timestamp\n",
    "train['quarter'] = (train.index.month - 1) // 3 + 1\n",
    "\n",
    "# Create quarterly seasonality indicator variables\n",
    "train['quarter_Q1'] = (train['quarter'] == 1).astype(int)\n",
    "train['quarter_Q2'] = (train['quarter'] == 2).astype(int)\n",
    "train['quarter_Q3'] = (train['quarter'] == 3).astype(int)\n",
    "train['quarter_Q4'] = (train['quarter'] == 4).astype(int)\n",
    "\n",
    "# Create the feature matrix (X) including quarterly seasonality indicators\n",
    "X1 = train[['quarter_Q1', 'quarter_Q2', 'quarter_Q3', 'quarter_Q4']]\n",
    "X1\n",
    "\n",
    "# remove the quarter column in train\n",
    "train = train.drop(['quarter_Q1'], axis=1)\n",
    "train = train.drop(['quarter_Q2'], axis=1)\n",
    "train = train.drop(['quarter_Q3'], axis=1)\n",
    "train = train.drop(['quarter_Q4'], axis=1)"
   ]
  },
  {
   "cell_type": "code",
   "execution_count": null,
   "metadata": {},
   "outputs": [],
   "source": [
    "#train['date'] = train.index\n",
    "X['date'] = train.index\n",
    "#X['date']  = X.index\n",
    "X.index = pd.to_datetime(X.index)\n",
    "\n",
    "# Create Seosonal Feature\n",
    "fourier = CalendarFourier(freq=\"M\", order=12)  # 10 sin/cos pairs for \"A\"nnual seasonality\n",
    "\n",
    "dp = DeterministicProcess(\n",
    "    index= train.index,\n",
    "    constant=True,               # dummy feature for bias (y-intercept)\n",
    "    order=3,                     # trend (order 1 means linear)\n",
    "    seasonal=True,               # weekly seasonality (indicators)\n",
    "    additional_terms=[fourier],  # annual seasonality (fourier)\n",
    "    drop=True                  # drop terms to avoid collinearity\n",
    ")\n",
    "\n",
    "X = dp.in_sample()  # create features for dates in tunnel.index\n"
   ]
  },
  {
   "cell_type": "code",
   "execution_count": null,
   "metadata": {},
   "outputs": [],
   "source": [
    "train.index = pd.to_datetime(train.index, unit='s')\n",
    "train.index"
   ]
  },
  {
   "cell_type": "markdown",
   "metadata": {},
   "source": [
    "## 5.2 Fit the Model"
   ]
  },
  {
   "cell_type": "code",
   "execution_count": null,
   "metadata": {},
   "outputs": [],
   "source": [
    "X.head()"
   ]
  },
  {
   "cell_type": "code",
   "execution_count": null,
   "metadata": {},
   "outputs": [],
   "source": [
    "len(test.index)"
   ]
  },
  {
   "cell_type": "code",
   "execution_count": null,
   "metadata": {},
   "outputs": [],
   "source": [
    "model = LinearRegression(fit_intercept=False)\n",
    "_ = model.fit(X, y)\n",
    "\n",
    "y_pred = pd.Series(model.predict(X), index=y.index)\n",
    "X_fore = dp.out_of_sample(steps=9, forecast_index=test.index)\n",
    "y_fore = pd.Series(model.predict(X_fore), index=X_fore.index)\n",
    "\n",
    "ax = y.plot(color='0.25', style='.', title=\"Unemployment Rate\")\n",
    "ax = y_pred.plot(ax=ax, label=\"Seasonal\")\n",
    "ax = y_fore.plot(ax=ax, label=\"Seasonal Forecast\", color='C3')\n",
    "_ = ax.legend()\n",
    "test['unemployed'].plot(legend=True, figsize=(12,8))"
   ]
  },
  {
   "cell_type": "code",
   "execution_count": null,
   "metadata": {},
   "outputs": [],
   "source": [
    "ax = y.plot(alpha=0.5)\n",
    "ax = y_pred.plot(ax=ax, linewidth=3)\n",
    "ax.set_title('Time Plot of Unemployment rate from 2010 to 2023 in Malaysia')"
   ]
  },
  {
   "cell_type": "code",
   "execution_count": 57,
   "metadata": {},
   "outputs": [
    {
     "name": "stdout",
     "output_type": "stream",
     "text": [
      "RMSE:  114.77974461357205\n",
      "MAE:  89.20493324763414\n",
      "MAPE:  15.26653360828816\n",
      "MSE: 13174.39\n"
     ]
    }
   ],
   "source": [
    "rms = sqrt(mean_squared_error(test.unemployed,y_fore))\n",
    "print(\"RMSE: \", rms)\n",
    "\n",
    "from sklearn.metrics import mean_absolute_error\n",
    "mae = mean_absolute_error(test.unemployed, y_fore)\n",
    "print(\"MAE: \", mae)\n",
    "\n",
    "def mean_absolute_percentage_error(y_true, y_pred):\n",
    "    y_true, y_pred = np.array(y_true), np.array(y_pred)\n",
    "    return np.mean(np.abs((y_true - y_pred) / y_true)) * 100\n",
    "\n",
    "mape = mean_absolute_percentage_error(test.unemployed, y_fore)\n",
    "print(\"MAPE: \", mape)\n",
    "\n",
    "mse = mean_squared_error(test.unemployed, y_fore)\n",
    "print(f\"MSE: {mse:.2f}\")"
   ]
  },
  {
   "cell_type": "code",
   "execution_count": 51,
   "metadata": {},
   "outputs": [
    {
     "data": {
      "text/html": [
       "<div>\n",
       "<style scoped>\n",
       "    .dataframe tbody tr th:only-of-type {\n",
       "        vertical-align: middle;\n",
       "    }\n",
       "\n",
       "    .dataframe tbody tr th {\n",
       "        vertical-align: top;\n",
       "    }\n",
       "\n",
       "    .dataframe thead th {\n",
       "        text-align: right;\n",
       "    }\n",
       "</style>\n",
       "<table border=\"1\" class=\"dataframe\">\n",
       "  <thead>\n",
       "    <tr style=\"text-align: right;\">\n",
       "      <th></th>\n",
       "      <th>unemployed</th>\n",
       "    </tr>\n",
       "    <tr>\n",
       "      <th>date</th>\n",
       "      <th></th>\n",
       "    </tr>\n",
       "  </thead>\n",
       "  <tbody>\n",
       "    <tr>\n",
       "      <th>2022-11-01</th>\n",
       "      <td>600.9</td>\n",
       "    </tr>\n",
       "    <tr>\n",
       "      <th>2022-12-01</th>\n",
       "      <td>599.6</td>\n",
       "    </tr>\n",
       "    <tr>\n",
       "      <th>2023-01-01</th>\n",
       "      <td>596.1</td>\n",
       "    </tr>\n",
       "    <tr>\n",
       "      <th>2023-02-01</th>\n",
       "      <td>591.9</td>\n",
       "    </tr>\n",
       "    <tr>\n",
       "      <th>2023-03-01</th>\n",
       "      <td>588.7</td>\n",
       "    </tr>\n",
       "    <tr>\n",
       "      <th>2023-04-01</th>\n",
       "      <td>586.9</td>\n",
       "    </tr>\n",
       "    <tr>\n",
       "      <th>2023-05-01</th>\n",
       "      <td>584.6</td>\n",
       "    </tr>\n",
       "    <tr>\n",
       "      <th>2023-06-01</th>\n",
       "      <td>581.7</td>\n",
       "    </tr>\n",
       "    <tr>\n",
       "      <th>2023-07-01</th>\n",
       "      <td>579.2</td>\n",
       "    </tr>\n",
       "  </tbody>\n",
       "</table>\n",
       "</div>"
      ],
      "text/plain": [
       "            unemployed\n",
       "date                  \n",
       "2022-11-01       600.9\n",
       "2022-12-01       599.6\n",
       "2023-01-01       596.1\n",
       "2023-02-01       591.9\n",
       "2023-03-01       588.7\n",
       "2023-04-01       586.9\n",
       "2023-05-01       584.6\n",
       "2023-06-01       581.7\n",
       "2023-07-01       579.2"
      ]
     },
     "execution_count": 51,
     "metadata": {},
     "output_type": "execute_result"
    }
   ],
   "source": [
    "test"
   ]
  },
  {
   "cell_type": "markdown",
   "metadata": {},
   "source": [
    "## 5.3 Hybrid Forecasting with Residuals"
   ]
  },
  {
   "cell_type": "code",
   "execution_count": null,
   "metadata": {},
   "outputs": [],
   "source": [
    "# 1. Train and predict with first model\n",
    "model_1.fit(X_train_1, y_train)\n",
    "y_pred_1 = model_1.predict(X_train)\n",
    "\n",
    "# 2. Train and predict with second model on residuals\n",
    "model_2.fit(X_train_2, y_train - y_pred_1)\n",
    "y_pred_2 = model_2.predict(X_train_2)\n",
    "\n",
    "# 3. Add to get overall predictions\n",
    "y_pred = y_pred_1 + y_pred_2"
   ]
  }
 ],
 "metadata": {
  "kernelspec": {
   "display_name": "Python 3",
   "language": "python",
   "name": "python3"
  },
  "language_info": {
   "codemirror_mode": {
    "name": "ipython",
    "version": 3
   },
   "file_extension": ".py",
   "mimetype": "text/x-python",
   "name": "python",
   "nbconvert_exporter": "python",
   "pygments_lexer": "ipython3",
   "version": "3.12.0"
  }
 },
 "nbformat": 4,
 "nbformat_minor": 2
}
