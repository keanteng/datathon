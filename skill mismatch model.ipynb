{
 "cells": [
  {
   "cell_type": "code",
   "execution_count": 11,
   "metadata": {},
   "outputs": [
    {
     "name": "stderr",
     "output_type": "stream",
     "text": [
      "[nltk_data] Downloading package punkt to /Users/angzhinuo/nltk_data...\n",
      "[nltk_data]   Package punkt is already up-to-date!\n",
      "[nltk_data] Downloading package stopwords to\n",
      "[nltk_data]     /Users/angzhinuo/nltk_data...\n",
      "[nltk_data]   Package stopwords is already up-to-date!\n"
     ]
    },
    {
     "name": "stdout",
     "output_type": "stream",
     "text": [
      "Welcome to the Skill Matching Program!\n",
      "Best Matching Sector: painting teacher\n",
      "Matching Skills: painting, leadership, communication\n",
      "Lacking Skills: English, lesson planning, malaysia, speaking, mandarin\n",
      "Job Description:\n",
      "Preparing and delivering lessons to students on fundamental topics in arts;Explaining and demonstrating artistic techniques;Planning and preparing lessons in accordance with the prescribed/recommended curriculum;Teaching and supervising students’ class work and discipline;Preparing, assigning and marking exercises, assignments and tests to evaluate student progress;Preparing reports on students’ work and conferring with other teachers and parents;Participating in staff meetings and educational conferences and workshops;Organising or assisting in co-curricular activities;Performing related tasks; and Enhancing knowledge and coordinating work performance.\n"
     ]
    }
   ],
   "source": [
    "import pandas as pd\n",
    "from nltk.tokenize import word_tokenize\n",
    "from nltk.corpus import stopwords\n",
    "from nltk.stem import PorterStemmer\n",
    "from sklearn.feature_extraction.text import TfidfVectorizer\n",
    "from sklearn.metrics.pairwise import cosine_similarity\n",
    "import nltk\n",
    "import ssl\n",
    "\n",
    "try:\n",
    "    _create_unverified_https_context = ssl._create_unverified_context\n",
    "except AttributeError:\n",
    "    pass\n",
    "else:\n",
    "    ssl._create_default_https_context = _create_unverified_https_context\n",
    "\n",
    "nltk.download(\"punkt\")\n",
    "nltk.download(\"stopwords\")\n",
    "\n",
    "def preprocess_text(text):\n",
    "    tokens = word_tokenize(text)\n",
    "    tokens = [word.lower() for word in tokens if word.isalnum()]\n",
    "    stop_words = set(stopwords.words(\"english\"))\n",
    "    tokens = [word for word in tokens if word not in stop_words]\n",
    "    stemmer = PorterStemmer()\n",
    "    tokens = [stemmer.stem(word) for word in tokens]\n",
    "    return \" \".join(tokens)\n",
    "\n",
    "def compare_skills(user_skills, sector_skills):\n",
    "    user_skills = preprocess_text(user_skills)\n",
    "    sector_skills = preprocess_text(sector_skills)\n",
    "\n",
    "    vectorizer = TfidfVectorizer()\n",
    "    tfidf_matrix = vectorizer.fit_transform([user_skills, sector_skills])\n",
    "    cosine_sim = cosine_similarity(tfidf_matrix[0], tfidf_matrix[1])\n",
    "\n",
    "    return cosine_sim[0][0]\n",
    "\n",
    "def main():\n",
    "    print(\"Welcome to the Skill Matching Program!\")\n",
    "\n",
    "    user_skills = input(\"Please enter your skills, separated by commas: \")\n",
    "    user_sector = input(\"Please specify the sector you are interested in: \")\n",
    "\n",
    "    sectors_data = pd.read_excel(\"skill by sector.xlsx\")\n",
    "\n",
    "    best_match = None\n",
    "    best_match_score = 0.0\n",
    "\n",
    "    for _, row in sectors_data.iterrows():\n",
    "        sector = row[\"sector\"]\n",
    "        sector_skills = row[\"skills\"]\n",
    "        similarity_score = compare_skills(user_skills, sector_skills)\n",
    "\n",
    "        if similarity_score > best_match_score:\n",
    "            best_match = sector\n",
    "            best_match_score = similarity_score\n",
    "\n",
    "    if best_match is not None:\n",
    "        sector_row = sectors_data.loc[sectors_data[\"sector\"] == best_match].iloc[0]\n",
    "        required_skills = set(sector_row[\"skills\"].split(\",\"))\n",
    "        user_input_skills = set(user_skills.split(\",\"))\n",
    "        matching_skills = user_input_skills.intersection(required_skills)\n",
    "        lacking_skills = required_skills.difference(user_input_skills)\n",
    "\n",
    "        print(f\"Best Matching Sector: {best_match}\")\n",
    "        print(\"Matching Skills:\", \", \".join(matching_skills))\n",
    "        print(\"Lacking Skills:\", \", \".join(lacking_skills))\n",
    "\n",
    "        if len(lacking_skills) > 0:\n",
    "            print(\"Job Description:\")\n",
    "            print(sector_row[\"job description\"])\n",
    "        else:\n",
    "            print(\"Congratulations! You have the required skills for this sector.\")\n",
    "    else:\n",
    "        print(\"Sorry, no matching sector found in our database.\")\n",
    "\n",
    "if __name__ == \"__main__\":\n",
    "    main()\n"
   ]
  }
 ],
 "metadata": {
  "kernelspec": {
   "display_name": "Python 3",
   "language": "python",
   "name": "python3"
  },
  "language_info": {
   "codemirror_mode": {
    "name": "ipython",
    "version": 3
   },
   "file_extension": ".py",
   "mimetype": "text/x-python",
   "name": "python",
   "nbconvert_exporter": "python",
   "pygments_lexer": "ipython3",
   "version": "3.12.0"
  }
 },
 "nbformat": 4,
 "nbformat_minor": 2
}
