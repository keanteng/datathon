{
 "cells": [
  {
   "cell_type": "code",
   "execution_count": 1,
   "metadata": {},
   "outputs": [
    {
     "name": "stderr",
     "output_type": "stream",
     "text": [
      "[nltk_data] Downloading package punkt to C:\\Users\\Khor Kean\n",
      "[nltk_data]     Teng\\AppData\\Roaming\\nltk_data...\n",
      "[nltk_data]   Package punkt is already up-to-date!\n",
      "[nltk_data] Downloading package stopwords to C:\\Users\\Khor Kean\n",
      "[nltk_data]     Teng\\AppData\\Roaming\\nltk_data...\n",
      "[nltk_data]   Package stopwords is already up-to-date!\n"
     ]
    },
    {
     "data": {
      "text/plain": [
       "True"
      ]
     },
     "execution_count": 1,
     "metadata": {},
     "output_type": "execute_result"
    }
   ],
   "source": [
    "import pandas as pd\n",
    "from nltk.tokenize import word_tokenize\n",
    "from nltk.corpus import stopwords\n",
    "from nltk.stem import PorterStemmer\n",
    "from sklearn.feature_extraction.text import TfidfVectorizer\n",
    "from sklearn.metrics.pairwise import cosine_similarity\n",
    "import nltk\n",
    "#import ssl\n",
    "\n",
    "import warnings\n",
    "warnings.filterwarnings('ignore')\n",
    "\n",
    "# download nltk packages\n",
    "nltk.download(\"punkt\")\n",
    "nltk.download(\"stopwords\")"
   ]
  },
  {
   "cell_type": "code",
   "execution_count": 2,
   "metadata": {},
   "outputs": [],
   "source": [
    "# load data\n",
    "qualification_data = pd.read_excel(\"../data/qualification level.xlsx\")\n",
    "sectors_data = pd.read_excel(\"../data/skill by sector.xlsx\")"
   ]
  },
  {
   "cell_type": "code",
   "execution_count": 2,
   "metadata": {},
   "outputs": [
    {
     "data": {
      "text/plain": [
       "'sifodfj Hi #$%#^ My na@#me is Kt'"
      ]
     },
     "execution_count": 2,
     "metadata": {},
     "output_type": "execute_result"
    }
   ],
   "source": [
    "import re\n",
    "text_input = \"sifodfj Hi #$%#^ My na@#me is Kt\"\n",
    "text_input = re.sub(r\"&quot;\", \"\", text_input)\n",
    "text_input = re.sub(r\".hack//\", \"\", text_input)\n",
    "text_input = re.sub(r\"&#039;\", \"\", text_input)\n",
    "text_input = re.sub(r\"A&#039;s\", \"\", text_input)\n",
    "text_input = re.sub(r\"I&#039;\", \"I'\", text_input)\n",
    "text_input = re.sub(r\"&amp;\", \"and\", text_input)\n",
    "text_input"
   ]
  },
  {
   "cell_type": "code",
   "execution_count": 3,
   "metadata": {},
   "outputs": [],
   "source": [
    "# Load qualification data from the \"qualification level\" Excel file\n",
    "qualification_dict = dict(zip(qualification_data[\"qualification\"], qualification_data[\"mqf level\"]))\n",
    "\n",
    "def preprocess_text(text):\n",
    "    # lower case everything\n",
    "    token = text.lower()   \n",
    "    # tokenize \n",
    "    tokens = word_tokenize(text)\n",
    "    tokens = [word.lower() for word in tokens if word.isalnum()]\n",
    "    # remove stop words\n",
    "    stop_words = set(stopwords.words(\"english\"))\n",
    "    tokens = [word for word in tokens if word not in stop_words]\n",
    "    stemmer = PorterStemmer()\n",
    "    tokens = [stemmer.stem(word) for word in tokens]\n",
    "    return \" \".join(tokens)\n",
    "\n",
    "def compare_skills(user_skills, sector_skills):\n",
    "    # preprocess text\n",
    "    user_skills = preprocess_text(user_skills)\n",
    "    sector_skills = preprocess_text(sector_skills)\n",
    "\n",
    "    # vectorize text and calculate cosine similarity\n",
    "    vectorizer = TfidfVectorizer(stop_words=\"english\", analyzer=\"word\")\n",
    "    tfidf_matrix = vectorizer.fit_transform([user_skills, sector_skills])\n",
    "    cosine_sim = cosine_similarity(tfidf_matrix[0], tfidf_matrix[1])\n",
    "\n",
    "    return cosine_sim[0][0]"
   ]
  },
  {
   "cell_type": "markdown",
   "metadata": {},
   "source": [
    "- We have a function that processes and clean the text\n",
    "- Another function to return similarity score"
   ]
  },
  {
   "cell_type": "code",
   "execution_count": 6,
   "metadata": {},
   "outputs": [
    {
     "name": "stdout",
     "output_type": "stream",
     "text": [
      "Sector: Special Education Teacher\n",
      "Matching Skills: English\n",
      "Lacking Skills: Problem Solving, Speaking, Speech Terapy, Writing, Cimmunication, Mandarin, Nursing, Planning, Malay, Child Care, Leadership\n",
      "Minimum Qualification: MQF Level 4\n",
      "Job Description:\n",
      "Designing or modifying the curricula and preparing lessons and activities adapted to students’ abilities and needs\n",
      "giving instructions to individuals or groups using special techniques or teaching aids suited to the students’ needs\n",
      "Giving instructions using techniques or special teaching aids such as Braille or lip-reading appropriate to the students’ disability and level and supervising work in class\n",
      "Encouraging students to have confidence, helping them to discover and adopt methods which compensate for limitations imposed by their disability, and promoting a sense of achievement\n",
      "Administering tests, evaluating and observing progress of each student and discussing it with parents, teachers, physiotherapists, social workers, etc.\n",
      "Discussing various learning programmes with parents\n",
      "Performing related tasks\n",
      "Enhancing knowledge and coordinating work performance.\n"
     ]
    }
   ],
   "source": [
    "user_skills = \"English, Leadership, Problem Solving, Malay, planning\"\n",
    "user_qualification = 5\n",
    "user_sector = \"Teacher\"\n",
    "\n",
    "matching_sectors = []\n",
    "\n",
    "for _, row in sectors_data.iterrows():\n",
    "    sector = row[\"sector\"]\n",
    "    sector_skills = row[\"skills\"]\n",
    "    min_qualification = row[\"qualification\"]\n",
    "    # compute the similarity score between user skills and all sector skills\n",
    "    similarity_score = compare_skills(user_skills, sector_skills)\n",
    "    \n",
    "    # check if the similarity score is above 0 and if the user's qualification is above the minimum qualification level\n",
    "    if similarity_score > 0 and int(user_qualification) >= int(min_qualification):\n",
    "        if not user_sector or user_sector.lower() in sector.lower():\n",
    "            matching_sectors.append(sector)\n",
    "\n",
    "# output the results\n",
    "if matching_sectors:\n",
    "    # the matches sector could be more than one, so we need to loop through all of them\n",
    "    for sector in matching_sectors:\n",
    "        sector_row = sectors_data.loc[sectors_data[\"sector\"] == sector].iloc[0]\n",
    "        required_skills = set(sector_row[\"skills\"].split(\",\"))\n",
    "        user_input_skills = set(user_skills.lower().split(\",\"))\n",
    "        matching_skills = user_input_skills.intersection(required_skills)\n",
    "        lacking_skills = required_skills.difference(user_input_skills)\n",
    "\n",
    "        print(f\"Sector: {sector.title()}\")\n",
    "        print(\"Matching Skills:\", \", \".join(matching_skills).title())\n",
    "        print(\"Lacking Skills:\", \", \".join(lacking_skills)[2:].title())\n",
    "        print(f\"Minimum Qualification: MQF Level {sector_row['qualification']}\")\n",
    "\n",
    "        if len(lacking_skills) > 0:\n",
    "            print(\"Job Description:\")\n",
    "            job_description = sector_row[\"job description\"].split(\";\")\n",
    "            for desc in job_description:\n",
    "                print(desc.strip())\n",
    "# if no match found, output this message\n",
    "else:\n",
    "    print(\"Sorry, no matching sectors found in our database for your skills and qualification level.\")"
   ]
  }
 ],
 "metadata": {
  "kernelspec": {
   "display_name": "Python 3",
   "language": "python",
   "name": "python3"
  },
  "language_info": {
   "codemirror_mode": {
    "name": "ipython",
    "version": 3
   },
   "file_extension": ".py",
   "mimetype": "text/x-python",
   "name": "python",
   "nbconvert_exporter": "python",
   "pygments_lexer": "ipython3",
   "version": "3.11.4"
  }
 },
 "nbformat": 4,
 "nbformat_minor": 2
}
