{
 "cells": [
  {
   "cell_type": "code",
   "execution_count": 14,
   "metadata": {},
   "outputs": [
    {
     "name": "stderr",
     "output_type": "stream",
     "text": [
      "[nltk_data] Downloading package punkt to C:\\Users\\Khor Kean\n",
      "[nltk_data]     Teng\\AppData\\Roaming\\nltk_data...\n",
      "[nltk_data]   Package punkt is already up-to-date!\n",
      "[nltk_data] Downloading package wordnet to C:\\Users\\Khor Kean\n",
      "[nltk_data]     Teng\\AppData\\Roaming\\nltk_data...\n",
      "[nltk_data]   Package wordnet is already up-to-date!\n"
     ]
    }
   ],
   "source": [
    "import os\n",
    "import re\n",
    "import nltk\n",
    "from nltk.corpus import stopwords\n",
    "import pandas as pd\n",
    "nltk.download('punkt')\n",
    "nltk.download('wordnet')\n",
    "from nltk.stem import WordNetLemmatizer\n",
    "import gensim.utils\n",
    "import gensim.downloader as api\n",
    "from gensim.models.word2vec import Word2Vec\n",
    "from gensim.utils import simple_preprocess\n",
    "from gensim.models import CoherenceModel\n",
    "import itertools\n",
    "import pandas as pd\n",
    "\n",
    "# filter out warnings\n",
    "import warnings"
   ]
  },
  {
   "cell_type": "code",
   "execution_count": 15,
   "metadata": {},
   "outputs": [
    {
     "name": "stderr",
     "output_type": "stream",
     "text": [
      "[nltk_data] Downloading package stopwords to C:\\Users\\Khor Kean\n",
      "[nltk_data]     Teng\\AppData\\Roaming\\nltk_data...\n",
      "[nltk_data]   Package stopwords is already up-to-date!\n"
     ]
    }
   ],
   "source": [
    "nltk.download('stopwords')\n",
    "stop_words = set(stopwords.words(\"english\"))\n",
    "stop = stopwords.words(\"english\")"
   ]
  },
  {
   "cell_type": "code",
   "execution_count": 16,
   "metadata": {},
   "outputs": [],
   "source": [
    "# Helper method\n",
    "#function to normalize description tokenize remove stopwords\n",
    "def norm(desc):\n",
    "    desc = str(desc)\n",
    "    desc = re.sub('[^a-zA-Z]',' ',desc)\n",
    "    desc = desc.lower()\n",
    "    desc = re.sub(pattern='\\s+', repl=' ', string=desc)\n",
    "    desc = nltk.word_tokenize(desc)\n",
    "    return desc\n",
    "\n",
    "\n",
    "# Get  the nouns / proper nouns / adjectives\n",
    "def postagwords(tagged_stanzas):\n",
    "  chunkGram = r\"\"\"NP: {<NN>+<PUNCT>+}\"\"\"\n",
    "  chunkGram = r\"\"\"chunk: {<JJ>+}\"\"\"\n",
    "  chunkGram = r\"\"\"chunk: {<NN>+<NN>+<NN>+}\"\"\"\n",
    "  #Chunk 3: Sequence of Nouns\n",
    "  chunkGram = r\"\"\"chunk: {<NN|NNP|NNS|NNPS>+}\"\"\"\n",
    "  chunkGram = r\"\"\"NP: {<NN|NNP|NNS|NNPS>+}\"\"\"\n",
    "  chunkParser = nltk.RegexpParser(chunkGram)\n",
    "  nouns = []\n",
    "  finalpos= []\n",
    "\n",
    "  for i in tagged_stanzas:\n",
    "    tree1 = chunkParser.parse(i)\n",
    "    nouns = [(word) for (word, pos) in i if pos == 'NN' or pos == 'NNS' or pos=='NNP' or pos=='JJ']\n",
    "    finalpos.append(nouns)\n",
    "\n",
    "  flat_list = list(itertools.chain(*finalpos))\n",
    "  return flat_list\n",
    "\n",
    "\n",
    "\n",
    "#Skills Frequency\n",
    "def most_frequent_skills(flat_list):\n",
    "  tag_fd = nltk.FreqDist(flat_list)\n",
    "  countsskills = pd.DataFrame(tag_fd.items(), columns=['word', 'frequency'])\n",
    "  # print('before')\n",
    "  # print(countsskills)\n",
    "  countsskills =countsskills[countsskills['word'].isin(['statistics', 'machine',  'r', 'python', 'nlp',  'neural','forecasting','tableau','power','bi',\n",
    "                        'software','programming'  'cloud' , 'aws','sas','regression','predictive', 'modeling','clustering' ,'database','databases',\n",
    "                        'datawarehouse','excel','pytorch','gcp','ETL','business','visualization','macros','operations','documentation','azure','ops','microsoft','powerpoint'\n",
    "                        'communication','interpersonal','storytelling','marketing','terradata','splunk','ruby','spark','cassandra','mongodb','scala','api','segmentation','targeting',\n",
    "                        'reporting','quality','a/b','html','css','sales','visio','logistics'\n",
    "                        'project','access','qa','quality','agile','scrum','jira'])]\n",
    "  countsskills.sort_values(by=['frequency'],ascending=False)\n",
    "  # print('after')\n",
    "  # print(countsskills)\n",
    "  return countsskills[:30]"
   ]
  },
  {
   "cell_type": "code",
   "execution_count": 17,
   "metadata": {},
   "outputs": [
    {
     "name": "stdout",
     "output_type": "stream",
     "text": [
      "15886\n"
     ]
    }
   ],
   "source": [
    "job_df=pd.read_csv('../data/job_posting.csv')\n",
    "print(len(job_df))"
   ]
  },
  {
   "cell_type": "code",
   "execution_count": 18,
   "metadata": {},
   "outputs": [
    {
     "data": {
      "text/html": [
       "<div>\n",
       "<style scoped>\n",
       "    .dataframe tbody tr th:only-of-type {\n",
       "        vertical-align: middle;\n",
       "    }\n",
       "\n",
       "    .dataframe tbody tr th {\n",
       "        vertical-align: top;\n",
       "    }\n",
       "\n",
       "    .dataframe thead th {\n",
       "        text-align: right;\n",
       "    }\n",
       "</style>\n",
       "<table border=\"1\" class=\"dataframe\">\n",
       "  <thead>\n",
       "    <tr style=\"text-align: right;\">\n",
       "      <th></th>\n",
       "      <th>job_id</th>\n",
       "      <th>company_id</th>\n",
       "      <th>title</th>\n",
       "      <th>description</th>\n",
       "      <th>max_salary</th>\n",
       "      <th>med_salary</th>\n",
       "      <th>min_salary</th>\n",
       "      <th>pay_period</th>\n",
       "      <th>formatted_work_type</th>\n",
       "      <th>location</th>\n",
       "      <th>...</th>\n",
       "      <th>expiry</th>\n",
       "      <th>closed_time</th>\n",
       "      <th>formatted_experience_level</th>\n",
       "      <th>skills_desc</th>\n",
       "      <th>listed_time</th>\n",
       "      <th>posting_domain</th>\n",
       "      <th>sponsored</th>\n",
       "      <th>work_type</th>\n",
       "      <th>currency</th>\n",
       "      <th>compensation_type</th>\n",
       "    </tr>\n",
       "  </thead>\n",
       "  <tbody>\n",
       "    <tr>\n",
       "      <th>0</th>\n",
       "      <td>85008768</td>\n",
       "      <td>NaN</td>\n",
       "      <td>Licensed Insurance Agent</td>\n",
       "      <td>While many industries were hurt by the last fe...</td>\n",
       "      <td>52000.0</td>\n",
       "      <td>NaN</td>\n",
       "      <td>45760.0</td>\n",
       "      <td>YEARLY</td>\n",
       "      <td>Full-time</td>\n",
       "      <td>Chico, CA</td>\n",
       "      <td>...</td>\n",
       "      <td>1708301126000</td>\n",
       "      <td>NaN</td>\n",
       "      <td>NaN</td>\n",
       "      <td>NaN</td>\n",
       "      <td>1692749193000</td>\n",
       "      <td>NaN</td>\n",
       "      <td>1</td>\n",
       "      <td>FULL_TIME</td>\n",
       "      <td>USD</td>\n",
       "      <td>BASE_SALARY</td>\n",
       "    </tr>\n",
       "    <tr>\n",
       "      <th>1</th>\n",
       "      <td>133114754</td>\n",
       "      <td>77766802.0</td>\n",
       "      <td>Sales Manager</td>\n",
       "      <td>Are you a dynamic and creative marketing profe...</td>\n",
       "      <td>NaN</td>\n",
       "      <td>NaN</td>\n",
       "      <td>NaN</td>\n",
       "      <td>NaN</td>\n",
       "      <td>Full-time</td>\n",
       "      <td>Santa Clarita, CA</td>\n",
       "      <td>...</td>\n",
       "      <td>1695426553000</td>\n",
       "      <td>NaN</td>\n",
       "      <td>NaN</td>\n",
       "      <td>NaN</td>\n",
       "      <td>1692834553000</td>\n",
       "      <td>NaN</td>\n",
       "      <td>0</td>\n",
       "      <td>FULL_TIME</td>\n",
       "      <td>NaN</td>\n",
       "      <td>NaN</td>\n",
       "    </tr>\n",
       "    <tr>\n",
       "      <th>2</th>\n",
       "      <td>133196985</td>\n",
       "      <td>1089558.0</td>\n",
       "      <td>Model Risk Auditor</td>\n",
       "      <td>Join Us as a Model Risk Auditor – Showcase You...</td>\n",
       "      <td>NaN</td>\n",
       "      <td>NaN</td>\n",
       "      <td>NaN</td>\n",
       "      <td>NaN</td>\n",
       "      <td>Contract</td>\n",
       "      <td>New York, NY</td>\n",
       "      <td>...</td>\n",
       "      <td>1695321872000</td>\n",
       "      <td>NaN</td>\n",
       "      <td>NaN</td>\n",
       "      <td>NaN</td>\n",
       "      <td>1692729872000</td>\n",
       "      <td>NaN</td>\n",
       "      <td>0</td>\n",
       "      <td>CONTRACT</td>\n",
       "      <td>NaN</td>\n",
       "      <td>NaN</td>\n",
       "    </tr>\n",
       "    <tr>\n",
       "      <th>3</th>\n",
       "      <td>381055942</td>\n",
       "      <td>96654609.0</td>\n",
       "      <td>Business Manager</td>\n",
       "      <td>Business ManagerFirst Baptist Church ForneyFor...</td>\n",
       "      <td>NaN</td>\n",
       "      <td>NaN</td>\n",
       "      <td>NaN</td>\n",
       "      <td>NaN</td>\n",
       "      <td>Full-time</td>\n",
       "      <td>Forney, TX</td>\n",
       "      <td>...</td>\n",
       "      <td>1695424007000</td>\n",
       "      <td>NaN</td>\n",
       "      <td>NaN</td>\n",
       "      <td>NaN</td>\n",
       "      <td>1692832007000</td>\n",
       "      <td>NaN</td>\n",
       "      <td>0</td>\n",
       "      <td>FULL_TIME</td>\n",
       "      <td>NaN</td>\n",
       "      <td>NaN</td>\n",
       "    </tr>\n",
       "    <tr>\n",
       "      <th>4</th>\n",
       "      <td>529257371</td>\n",
       "      <td>1244539.0</td>\n",
       "      <td>NY Studio Assistant</td>\n",
       "      <td>YOU COULD BE ONE OF THE MAGIC MAKERS\\nKen Fulk...</td>\n",
       "      <td>NaN</td>\n",
       "      <td>NaN</td>\n",
       "      <td>NaN</td>\n",
       "      <td>NaN</td>\n",
       "      <td>Full-time</td>\n",
       "      <td>New York, NY</td>\n",
       "      <td>...</td>\n",
       "      <td>1708419602000</td>\n",
       "      <td>NaN</td>\n",
       "      <td>NaN</td>\n",
       "      <td>NaN</td>\n",
       "      <td>1692867714000</td>\n",
       "      <td>NaN</td>\n",
       "      <td>1</td>\n",
       "      <td>FULL_TIME</td>\n",
       "      <td>NaN</td>\n",
       "      <td>NaN</td>\n",
       "    </tr>\n",
       "  </tbody>\n",
       "</table>\n",
       "<p>5 rows × 27 columns</p>\n",
       "</div>"
      ],
      "text/plain": [
       "      job_id  company_id                     title  \\\n",
       "0   85008768         NaN  Licensed Insurance Agent   \n",
       "1  133114754  77766802.0             Sales Manager   \n",
       "2  133196985   1089558.0        Model Risk Auditor   \n",
       "3  381055942  96654609.0          Business Manager   \n",
       "4  529257371   1244539.0       NY Studio Assistant   \n",
       "\n",
       "                                         description  max_salary  med_salary  \\\n",
       "0  While many industries were hurt by the last fe...     52000.0         NaN   \n",
       "1  Are you a dynamic and creative marketing profe...         NaN         NaN   \n",
       "2  Join Us as a Model Risk Auditor – Showcase You...         NaN         NaN   \n",
       "3  Business ManagerFirst Baptist Church ForneyFor...         NaN         NaN   \n",
       "4  YOU COULD BE ONE OF THE MAGIC MAKERS\\nKen Fulk...         NaN         NaN   \n",
       "\n",
       "   min_salary pay_period formatted_work_type           location  ...  \\\n",
       "0     45760.0     YEARLY           Full-time          Chico, CA  ...   \n",
       "1         NaN        NaN           Full-time  Santa Clarita, CA  ...   \n",
       "2         NaN        NaN            Contract       New York, NY  ...   \n",
       "3         NaN        NaN           Full-time         Forney, TX  ...   \n",
       "4         NaN        NaN           Full-time       New York, NY  ...   \n",
       "\n",
       "          expiry  closed_time  formatted_experience_level  skills_desc  \\\n",
       "0  1708301126000          NaN                         NaN          NaN   \n",
       "1  1695426553000          NaN                         NaN          NaN   \n",
       "2  1695321872000          NaN                         NaN          NaN   \n",
       "3  1695424007000          NaN                         NaN          NaN   \n",
       "4  1708419602000          NaN                         NaN          NaN   \n",
       "\n",
       "     listed_time posting_domain sponsored  work_type  currency  \\\n",
       "0  1692749193000            NaN         1  FULL_TIME       USD   \n",
       "1  1692834553000            NaN         0  FULL_TIME       NaN   \n",
       "2  1692729872000            NaN         0   CONTRACT       NaN   \n",
       "3  1692832007000            NaN         0  FULL_TIME       NaN   \n",
       "4  1692867714000            NaN         1  FULL_TIME       NaN   \n",
       "\n",
       "  compensation_type  \n",
       "0       BASE_SALARY  \n",
       "1               NaN  \n",
       "2               NaN  \n",
       "3               NaN  \n",
       "4               NaN  \n",
       "\n",
       "[5 rows x 27 columns]"
      ]
     },
     "execution_count": 18,
     "metadata": {},
     "output_type": "execute_result"
    }
   ],
   "source": [
    "# preview\n",
    "job_df.head()"
   ]
  },
  {
   "cell_type": "code",
   "execution_count": 19,
   "metadata": {},
   "outputs": [],
   "source": [
    "# keep title and description column only\n",
    "job_df = job_df[['title', 'description', 'views']]"
   ]
  },
  {
   "cell_type": "code",
   "execution_count": 20,
   "metadata": {},
   "outputs": [
    {
     "data": {
      "text/plain": [
       "0        [while, many, industries, were, hurt, by, the,...\n",
       "1        [are, you, a, dynamic, and, creative, marketin...\n",
       "2        [join, us, as, a, model, risk, auditor, showca...\n",
       "3        [business, managerfirst, baptist, church, forn...\n",
       "4        [you, could, be, one, of, the, magic, makers, ...\n",
       "                               ...                        \n",
       "15881    [location, west, columbia, sc, us, job, type, ...\n",
       "15882    [job, title, unit, secretary, department, nurs...\n",
       "15883    [job, title, radiology, aide, perdiem, departm...\n",
       "15884    [grade, job, type, officer, of, administration...\n",
       "15885    [nexion, health, management, affiliates, opera...\n",
       "Name: description, Length: 15886, dtype: object"
      ]
     },
     "execution_count": 20,
     "metadata": {},
     "output_type": "execute_result"
    }
   ],
   "source": [
    "#running function on description column\n",
    "job_df_Desc=job_df['description'].apply(lambda x:norm(x))\n",
    "job_df_Desc"
   ]
  },
  {
   "cell_type": "code",
   "execution_count": 21,
   "metadata": {},
   "outputs": [],
   "source": [
    "# for empty views cell replace with 0\n",
    "job_df['views'].fillna(0, inplace=True)"
   ]
  },
  {
   "cell_type": "code",
   "execution_count": 22,
   "metadata": {},
   "outputs": [
    {
     "name": "stderr",
     "output_type": "stream",
     "text": [
      "[nltk_data] Downloading package stopwords to C:\\Users\\Khor Kean\n",
      "[nltk_data]     Teng\\AppData\\Roaming\\nltk_data...\n",
      "[nltk_data]   Package stopwords is already up-to-date!\n"
     ]
    },
    {
     "data": {
      "text/plain": [
       "True"
      ]
     },
     "execution_count": 22,
     "metadata": {},
     "output_type": "execute_result"
    }
   ],
   "source": [
    "nltk.download('stopwords')"
   ]
  },
  {
   "cell_type": "code",
   "execution_count": 23,
   "metadata": {},
   "outputs": [],
   "source": [
    "#removing stopwords from description\n",
    "stop= nltk.corpus.stopwords.words('english')\n",
    "new=['job','note','sexual','orientation','equal','opportunity','gender','plus','years','scientist','analyst','based','data','knowledge','discrimination','experience','description','summary','information','etc','eg','layers']\n",
    "stop.extend(new)\n",
    "job_df_clean=job_df_Desc.apply(lambda x:[item for item in x if item not in set(stop)])"
   ]
  },
  {
   "cell_type": "code",
   "execution_count": 24,
   "metadata": {},
   "outputs": [
    {
     "data": {
      "text/plain": [
       "0        [many, industries, hurt, last, people, still, ...\n",
       "1        [dynamic, creative, marketing, professional, l...\n",
       "2        [join, us, model, risk, auditor, showcase, fin...\n",
       "3        [business, managerfirst, baptist, church, forn...\n",
       "4        [could, one, magic, makers, ken, fulk, inc, se...\n",
       "                               ...                        \n",
       "15881    [location, west, columbia, sc, us, type, baker...\n",
       "15882    [title, unit, secretary, department, nursing, ...\n",
       "15883    [title, radiology, aide, perdiem, department, ...\n",
       "15884    [grade, type, officer, administrationbargainin...\n",
       "15885    [nexion, health, management, affiliates, opera...\n",
       "Name: tokenized_Description, Length: 15886, dtype: object"
      ]
     },
     "execution_count": 24,
     "metadata": {},
     "output_type": "execute_result"
    }
   ],
   "source": [
    "job_df.loc[:,'tokenized_Description'] = job_df_clean\n",
    "job_df.loc[:,'tokenized_Description']"
   ]
  },
  {
   "cell_type": "code",
   "execution_count": 25,
   "metadata": {},
   "outputs": [
    {
     "data": {
      "text/plain": [
       "0        [many, industries, hurt, last, people, still, ...\n",
       "1        [dynamic, creative, marketing, professional, l...\n",
       "2        [join, us, model, risk, auditor, showcase, fin...\n",
       "3        [business, managerfirst, baptist, church, forn...\n",
       "4        [could, one, magic, makers, ken, fulk, inc, se...\n",
       "                               ...                        \n",
       "15881    [location, west, columbia, sc, us, type, baker...\n",
       "15882    [title, unit, secretary, department, nursing, ...\n",
       "15883    [title, radiology, aide, perdiem, department, ...\n",
       "15884    [grade, type, officer, administrationbargainin...\n",
       "15885    [nexion, health, management, affiliates, opera...\n",
       "Name: tokenized_Description, Length: 15886, dtype: object"
      ]
     },
     "execution_count": 25,
     "metadata": {},
     "output_type": "execute_result"
    }
   ],
   "source": [
    "df = job_df\n",
    "df[\"description\"] = df[\"description\"].fillna(\"\")\n",
    "df[\"tokenized_Description\"]"
   ]
  },
  {
   "cell_type": "code",
   "execution_count": 26,
   "metadata": {},
   "outputs": [
    {
     "data": {
      "text/html": [
       "<div>\n",
       "<style scoped>\n",
       "    .dataframe tbody tr th:only-of-type {\n",
       "        vertical-align: middle;\n",
       "    }\n",
       "\n",
       "    .dataframe tbody tr th {\n",
       "        vertical-align: top;\n",
       "    }\n",
       "\n",
       "    .dataframe thead th {\n",
       "        text-align: right;\n",
       "    }\n",
       "</style>\n",
       "<table border=\"1\" class=\"dataframe\">\n",
       "  <thead>\n",
       "    <tr style=\"text-align: right;\">\n",
       "      <th></th>\n",
       "      <th>title</th>\n",
       "      <th>description</th>\n",
       "      <th>views</th>\n",
       "      <th>tokenized_Description</th>\n",
       "      <th>tokenized_desc_join</th>\n",
       "    </tr>\n",
       "  </thead>\n",
       "  <tbody>\n",
       "    <tr>\n",
       "      <th>0</th>\n",
       "      <td>Licensed Insurance Agent</td>\n",
       "      <td>While many industries were hurt by the last fe...</td>\n",
       "      <td>5.0</td>\n",
       "      <td>[many, industries, hurt, last, people, still, ...</td>\n",
       "      <td>many industries hurt last people still need in...</td>\n",
       "    </tr>\n",
       "    <tr>\n",
       "      <th>1</th>\n",
       "      <td>Sales Manager</td>\n",
       "      <td>Are you a dynamic and creative marketing profe...</td>\n",
       "      <td>0.0</td>\n",
       "      <td>[dynamic, creative, marketing, professional, l...</td>\n",
       "      <td>dynamic creative marketing professional lookin...</td>\n",
       "    </tr>\n",
       "    <tr>\n",
       "      <th>2</th>\n",
       "      <td>Model Risk Auditor</td>\n",
       "      <td>Join Us as a Model Risk Auditor – Showcase You...</td>\n",
       "      <td>17.0</td>\n",
       "      <td>[join, us, model, risk, auditor, showcase, fin...</td>\n",
       "      <td>join us model risk auditor showcase financial ...</td>\n",
       "    </tr>\n",
       "    <tr>\n",
       "      <th>3</th>\n",
       "      <td>Business Manager</td>\n",
       "      <td>Business ManagerFirst Baptist Church ForneyFor...</td>\n",
       "      <td>0.0</td>\n",
       "      <td>[business, managerfirst, baptist, church, forn...</td>\n",
       "      <td>business managerfirst baptist church forneyfor...</td>\n",
       "    </tr>\n",
       "    <tr>\n",
       "      <th>4</th>\n",
       "      <td>NY Studio Assistant</td>\n",
       "      <td>YOU COULD BE ONE OF THE MAGIC MAKERS\\nKen Fulk...</td>\n",
       "      <td>2.0</td>\n",
       "      <td>[could, one, magic, makers, ken, fulk, inc, se...</td>\n",
       "      <td>could one magic makers ken fulk inc seeking st...</td>\n",
       "    </tr>\n",
       "  </tbody>\n",
       "</table>\n",
       "</div>"
      ],
      "text/plain": [
       "                      title  \\\n",
       "0  Licensed Insurance Agent   \n",
       "1             Sales Manager   \n",
       "2        Model Risk Auditor   \n",
       "3          Business Manager   \n",
       "4       NY Studio Assistant   \n",
       "\n",
       "                                         description  views  \\\n",
       "0  While many industries were hurt by the last fe...    5.0   \n",
       "1  Are you a dynamic and creative marketing profe...    0.0   \n",
       "2  Join Us as a Model Risk Auditor – Showcase You...   17.0   \n",
       "3  Business ManagerFirst Baptist Church ForneyFor...    0.0   \n",
       "4  YOU COULD BE ONE OF THE MAGIC MAKERS\\nKen Fulk...    2.0   \n",
       "\n",
       "                               tokenized_Description  \\\n",
       "0  [many, industries, hurt, last, people, still, ...   \n",
       "1  [dynamic, creative, marketing, professional, l...   \n",
       "2  [join, us, model, risk, auditor, showcase, fin...   \n",
       "3  [business, managerfirst, baptist, church, forn...   \n",
       "4  [could, one, magic, makers, ken, fulk, inc, se...   \n",
       "\n",
       "                                 tokenized_desc_join  \n",
       "0  many industries hurt last people still need in...  \n",
       "1  dynamic creative marketing professional lookin...  \n",
       "2  join us model risk auditor showcase financial ...  \n",
       "3  business managerfirst baptist church forneyfor...  \n",
       "4  could one magic makers ken fulk inc seeking st...  "
      ]
     },
     "execution_count": 26,
     "metadata": {},
     "output_type": "execute_result"
    }
   ],
   "source": [
    "import regex as re\n",
    "df['tokenized_desc_join'] = [' '.join(map(str, l)) for l in df['tokenized_Description']]\n",
    "df.head()"
   ]
  },
  {
   "cell_type": "code",
   "execution_count": 27,
   "metadata": {},
   "outputs": [],
   "source": [
    "# save the data for faster loading\n",
    "df.to_csv('../data/job_posting_clean.csv', index=False)"
   ]
  },
  {
   "cell_type": "code",
   "execution_count": 28,
   "metadata": {},
   "outputs": [],
   "source": [
    "model = Word2Vec(df['tokenized_Description'] ,\n",
    "                               window=10,\n",
    "                               min_count=10,\n",
    "                               workers=5)\n",
    "model.train(df['tokenized_Description'] ,total_examples=700,epochs=model.epochs)\n",
    "model.build_vocab(df['tokenized_Description'],progress_per=100,update=True)"
   ]
  },
  {
   "cell_type": "code",
   "execution_count": 29,
   "metadata": {},
   "outputs": [
    {
     "data": {
      "text/plain": [
       "[('visualization', 0.8080564737319946),\n",
       " ('modelling', 0.7891585826873779),\n",
       " ('algorithms', 0.7854996919631958),\n",
       " ('scripting', 0.7810526490211487),\n",
       " ('matlab', 0.775390088558197),\n",
       " ('ml', 0.7590502500534058),\n",
       " ('etl', 0.754277229309082),\n",
       " ('query', 0.7409961819648743),\n",
       " ('statistical', 0.7326993942260742),\n",
       " ('nlp', 0.7283128499984741),\n",
       " ('sql', 0.7242838740348816),\n",
       " ('powerbi', 0.7142824530601501),\n",
       " ('nosql', 0.7142578363418579),\n",
       " ('hadoop', 0.7115639448165894),\n",
       " ('shell', 0.7107833027839661),\n",
       " ('spark', 0.7104853391647339),\n",
       " ('debugging', 0.7102362513542175),\n",
       " ('frameworks', 0.7091355323791504),\n",
       " ('simulation', 0.7064521908760071),\n",
       " ('etcexperience', 0.7064029574394226),\n",
       " ('perl', 0.7059974670410156),\n",
       " ('relational', 0.7048850059509277),\n",
       " ('informatica', 0.701752245426178),\n",
       " ('gitlab', 0.6931585073471069),\n",
       " ('tableau', 0.6926621198654175)]"
      ]
     },
     "execution_count": 29,
     "metadata": {},
     "output_type": "execute_result"
    }
   ],
   "source": [
    "# data science specific skills\n",
    "model.wv.most_similar(['statistics', 'machine', 'r', 'python',\n",
    "                      'business', 'software', 'aws','sas','regression','predictive', 'modeling' ],topn=25)"
   ]
  },
  {
   "cell_type": "code",
   "execution_count": 30,
   "metadata": {},
   "outputs": [
    {
     "data": {
      "text/plain": [
       "[('treasury', 0.6755032539367676),\n",
       " ('transactional', 0.6251596808433533),\n",
       " ('valuation', 0.5928547978401184),\n",
       " ('budgeting', 0.5658106207847595),\n",
       " ('fp', 0.5550159811973572),\n",
       " ('financial', 0.554163932800293),\n",
       " ('mba', 0.5476995706558228),\n",
       " ('ap', 0.5454939603805542),\n",
       " ('erp', 0.5415525436401367),\n",
       " ('traders', 0.5345434546470642)]"
      ]
     },
     "execution_count": 30,
     "metadata": {},
     "output_type": "execute_result"
    }
   ],
   "source": [
    "temp = model.wv.most_similar(['finance', 'accounting', 'banking', 'business', 'management'],topn=10,)\n",
    "temp"
   ]
  },
  {
   "cell_type": "code",
   "execution_count": 31,
   "metadata": {},
   "outputs": [
    {
     "data": {
      "text/plain": [
       "'transactional'"
      ]
     },
     "execution_count": 31,
     "metadata": {},
     "output_type": "execute_result"
    }
   ],
   "source": [
    "temp[1][0]"
   ]
  }
 ],
 "metadata": {
  "kernelspec": {
   "display_name": "Python 3",
   "language": "python",
   "name": "python3"
  },
  "language_info": {
   "codemirror_mode": {
    "name": "ipython",
    "version": 3
   },
   "file_extension": ".py",
   "mimetype": "text/x-python",
   "name": "python",
   "nbconvert_exporter": "python",
   "pygments_lexer": "ipython3",
   "version": "3.11.4"
  }
 },
 "nbformat": 4,
 "nbformat_minor": 2
}
