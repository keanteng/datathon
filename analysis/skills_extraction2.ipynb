{
 "cells": [
  {
   "cell_type": "code",
   "execution_count": 1,
   "metadata": {},
   "outputs": [
    {
     "name": "stderr",
     "output_type": "stream",
     "text": [
      "[nltk_data] Downloading package punkt to C:\\Users\\Khor Kean\n",
      "[nltk_data]     Teng\\AppData\\Roaming\\nltk_data...\n",
      "[nltk_data]   Package punkt is already up-to-date!\n",
      "[nltk_data] Downloading package wordnet to C:\\Users\\Khor Kean\n",
      "[nltk_data]     Teng\\AppData\\Roaming\\nltk_data...\n",
      "[nltk_data]   Package wordnet is already up-to-date!\n"
     ]
    }
   ],
   "source": [
    "import os\n",
    "import re\n",
    "import nltk\n",
    "from nltk.corpus import stopwords\n",
    "import pandas as pd\n",
    "nltk.download('punkt')\n",
    "nltk.download('wordnet')\n",
    "from nltk.stem import WordNetLemmatizer\n",
    "import gensim.utils\n",
    "import gensim.downloader as api\n",
    "from gensim.models.word2vec import Word2Vec\n",
    "from gensim.utils import simple_preprocess\n",
    "from gensim.models import CoherenceModel\n",
    "import itertools\n",
    "import pandas as pd\n",
    "\n",
    "# filter out warnings\n",
    "import warnings"
   ]
  },
  {
   "cell_type": "code",
   "execution_count": 2,
   "metadata": {},
   "outputs": [
    {
     "name": "stderr",
     "output_type": "stream",
     "text": [
      "[nltk_data] Downloading package stopwords to C:\\Users\\Khor Kean\n",
      "[nltk_data]     Teng\\AppData\\Roaming\\nltk_data...\n",
      "[nltk_data]   Package stopwords is already up-to-date!\n"
     ]
    }
   ],
   "source": [
    "nltk.download('stopwords')\n",
    "stop_words = set(stopwords.words(\"english\"))\n",
    "stop = stopwords.words(\"english\")"
   ]
  },
  {
   "cell_type": "code",
   "execution_count": 3,
   "metadata": {},
   "outputs": [],
   "source": [
    "# Helper method\n",
    "#function to normalize description tokenize remove stopwords\n",
    "def norm(desc):\n",
    "    desc = str(desc)\n",
    "    desc = re.sub('[^a-zA-Z]',' ',desc)\n",
    "    desc = desc.lower()\n",
    "    desc = re.sub(pattern='\\s+', repl=' ', string=desc)\n",
    "    desc = nltk.word_tokenize(desc)\n",
    "    return desc\n",
    "\n",
    "\n",
    "# Get  the nouns / proper nouns / adjectives\n",
    "def postagwords(tagged_stanzas):\n",
    "  chunkGram = r\"\"\"NP: {<NN>+<PUNCT>+}\"\"\"\n",
    "  chunkGram = r\"\"\"chunk: {<JJ>+}\"\"\"\n",
    "  chunkGram = r\"\"\"chunk: {<NN>+<NN>+<NN>+}\"\"\"\n",
    "  #Chunk 3: Sequence of Nouns\n",
    "  chunkGram = r\"\"\"chunk: {<NN|NNP|NNS|NNPS>+}\"\"\"\n",
    "  chunkGram = r\"\"\"NP: {<NN|NNP|NNS|NNPS>+}\"\"\"\n",
    "  chunkParser = nltk.RegexpParser(chunkGram)\n",
    "  nouns = []\n",
    "  finalpos= []\n",
    "\n",
    "  for i in tagged_stanzas:\n",
    "    tree1 = chunkParser.parse(i)\n",
    "    nouns = [(word) for (word, pos) in i if pos == 'NN' or pos == 'NNS' or pos=='NNP' or pos=='JJ']\n",
    "    finalpos.append(nouns)\n",
    "\n",
    "  flat_list = list(itertools.chain(*finalpos))\n",
    "  return flat_list\n",
    "\n",
    "\n",
    "\n",
    "#Skills Frequency\n",
    "def most_frequent_skills(flat_list):\n",
    "  tag_fd = nltk.FreqDist(flat_list)\n",
    "  countsskills = pd.DataFrame(tag_fd.items(), columns=['word', 'frequency'])\n",
    "  # print('before')\n",
    "  # print(countsskills)\n",
    "  countsskills =countsskills[countsskills['word'].isin(['statistics', 'machine',  'r', 'python', 'nlp',  'neural','forecasting','tableau','power','bi',\n",
    "                        'software','programming'  'cloud' , 'aws','sas','regression','predictive', 'modeling','clustering' ,'database','databases',\n",
    "                        'datawarehouse','excel','pytorch','gcp','ETL','business','visualization','macros','operations','documentation','azure','ops','microsoft','powerpoint'\n",
    "                        'communication','interpersonal','storytelling','marketing','terradata','splunk','ruby','spark','cassandra','mongodb','scala','api','segmentation','targeting',\n",
    "                        'reporting','quality','a/b','html','css','sales','visio','logistics'\n",
    "                        'project','access','qa','quality','agile','scrum','jira'])]\n",
    "  countsskills.sort_values(by=['frequency'],ascending=False)\n",
    "  # print('after')\n",
    "  # print(countsskills)\n",
    "  return countsskills[:30]"
   ]
  },
  {
   "cell_type": "code",
   "execution_count": 4,
   "metadata": {},
   "outputs": [
    {
     "name": "stdout",
     "output_type": "stream",
     "text": [
      "15886\n"
     ]
    }
   ],
   "source": [
    "job_df=pd.read_csv('../data/job_postings.csv')\n",
    "print(len(job_df))"
   ]
  },
  {
   "cell_type": "code",
   "execution_count": 5,
   "metadata": {},
   "outputs": [
    {
     "data": {
      "text/html": [
       "<div>\n",
       "<style scoped>\n",
       "    .dataframe tbody tr th:only-of-type {\n",
       "        vertical-align: middle;\n",
       "    }\n",
       "\n",
       "    .dataframe tbody tr th {\n",
       "        vertical-align: top;\n",
       "    }\n",
       "\n",
       "    .dataframe thead th {\n",
       "        text-align: right;\n",
       "    }\n",
       "</style>\n",
       "<table border=\"1\" class=\"dataframe\">\n",
       "  <thead>\n",
       "    <tr style=\"text-align: right;\">\n",
       "      <th></th>\n",
       "      <th>title</th>\n",
       "      <th>description</th>\n",
       "      <th>formatted_work_type</th>\n",
       "      <th>location</th>\n",
       "      <th>views</th>\n",
       "      <th>work_type</th>\n",
       "    </tr>\n",
       "  </thead>\n",
       "  <tbody>\n",
       "    <tr>\n",
       "      <th>0</th>\n",
       "      <td>Licensed Insurance Agent</td>\n",
       "      <td>While many industries were hurt by the last fe...</td>\n",
       "      <td>Full-time</td>\n",
       "      <td>Chico, CA</td>\n",
       "      <td>5.0</td>\n",
       "      <td>FULL_TIME</td>\n",
       "    </tr>\n",
       "    <tr>\n",
       "      <th>1</th>\n",
       "      <td>Sales Manager</td>\n",
       "      <td>Are you a dynamic and creative marketing profe...</td>\n",
       "      <td>Full-time</td>\n",
       "      <td>Santa Clarita, CA</td>\n",
       "      <td>NaN</td>\n",
       "      <td>FULL_TIME</td>\n",
       "    </tr>\n",
       "    <tr>\n",
       "      <th>2</th>\n",
       "      <td>Model Risk Auditor</td>\n",
       "      <td>Join Us as a Model Risk Auditor – Showcase You...</td>\n",
       "      <td>Contract</td>\n",
       "      <td>New York, NY</td>\n",
       "      <td>17.0</td>\n",
       "      <td>CONTRACT</td>\n",
       "    </tr>\n",
       "    <tr>\n",
       "      <th>3</th>\n",
       "      <td>Business Manager</td>\n",
       "      <td>Business ManagerFirst Baptist Church ForneyFor...</td>\n",
       "      <td>Full-time</td>\n",
       "      <td>Forney, TX</td>\n",
       "      <td>NaN</td>\n",
       "      <td>FULL_TIME</td>\n",
       "    </tr>\n",
       "    <tr>\n",
       "      <th>4</th>\n",
       "      <td>NY Studio Assistant</td>\n",
       "      <td>YOU COULD BE ONE OF THE MAGIC MAKERS\\r\\nKen Fu...</td>\n",
       "      <td>Full-time</td>\n",
       "      <td>New York, NY</td>\n",
       "      <td>2.0</td>\n",
       "      <td>FULL_TIME</td>\n",
       "    </tr>\n",
       "  </tbody>\n",
       "</table>\n",
       "</div>"
      ],
      "text/plain": [
       "                      title  \\\n",
       "0  Licensed Insurance Agent   \n",
       "1             Sales Manager   \n",
       "2        Model Risk Auditor   \n",
       "3          Business Manager   \n",
       "4       NY Studio Assistant   \n",
       "\n",
       "                                         description formatted_work_type  \\\n",
       "0  While many industries were hurt by the last fe...           Full-time   \n",
       "1  Are you a dynamic and creative marketing profe...           Full-time   \n",
       "2  Join Us as a Model Risk Auditor – Showcase You...            Contract   \n",
       "3  Business ManagerFirst Baptist Church ForneyFor...           Full-time   \n",
       "4  YOU COULD BE ONE OF THE MAGIC MAKERS\\r\\nKen Fu...           Full-time   \n",
       "\n",
       "            location  views  work_type  \n",
       "0          Chico, CA    5.0  FULL_TIME  \n",
       "1  Santa Clarita, CA    NaN  FULL_TIME  \n",
       "2       New York, NY   17.0   CONTRACT  \n",
       "3         Forney, TX    NaN  FULL_TIME  \n",
       "4       New York, NY    2.0  FULL_TIME  "
      ]
     },
     "execution_count": 5,
     "metadata": {},
     "output_type": "execute_result"
    }
   ],
   "source": [
    "# preview\n",
    "job_df.head()"
   ]
  },
  {
   "cell_type": "code",
   "execution_count": 6,
   "metadata": {},
   "outputs": [],
   "source": [
    "# keep title and description column only\n",
    "job_df = job_df[['title', 'description', 'views', 'work_type', 'location']]"
   ]
  },
  {
   "cell_type": "code",
   "execution_count": 7,
   "metadata": {},
   "outputs": [
    {
     "data": {
      "text/plain": [
       "0        [while, many, industries, were, hurt, by, the,...\n",
       "1        [are, you, a, dynamic, and, creative, marketin...\n",
       "2        [join, us, as, a, model, risk, auditor, showca...\n",
       "3        [business, managerfirst, baptist, church, forn...\n",
       "4        [you, could, be, one, of, the, magic, makers, ...\n",
       "                               ...                        \n",
       "15881    [location, west, columbia, sc, us, job, type, ...\n",
       "15882    [job, title, unit, secretary, department, nurs...\n",
       "15883    [job, title, radiology, aide, perdiem, departm...\n",
       "15884    [grade, job, type, officer, of, administration...\n",
       "15885    [nexion, health, management, affiliates, opera...\n",
       "Name: description, Length: 15886, dtype: object"
      ]
     },
     "execution_count": 7,
     "metadata": {},
     "output_type": "execute_result"
    }
   ],
   "source": [
    "#running function on description column\n",
    "job_df_Desc=job_df['description'].apply(lambda x:norm(x))\n",
    "job_df_Desc"
   ]
  },
  {
   "cell_type": "code",
   "execution_count": 8,
   "metadata": {},
   "outputs": [],
   "source": [
    "# for empty views cell replace with 0\n",
    "job_df['views'].fillna(0, inplace=True)"
   ]
  },
  {
   "cell_type": "code",
   "execution_count": 9,
   "metadata": {},
   "outputs": [
    {
     "name": "stderr",
     "output_type": "stream",
     "text": [
      "[nltk_data] Downloading package stopwords to C:\\Users\\Khor Kean\n",
      "[nltk_data]     Teng\\AppData\\Roaming\\nltk_data...\n",
      "[nltk_data]   Package stopwords is already up-to-date!\n"
     ]
    },
    {
     "data": {
      "text/plain": [
       "True"
      ]
     },
     "execution_count": 9,
     "metadata": {},
     "output_type": "execute_result"
    }
   ],
   "source": [
    "nltk.download('stopwords')"
   ]
  },
  {
   "cell_type": "code",
   "execution_count": 10,
   "metadata": {},
   "outputs": [],
   "source": [
    "#removing stopwords from description\n",
    "stop= nltk.corpus.stopwords.words('english')\n",
    "new=['job','note','sexual','orientation','equal','opportunity','gender','plus','years','scientist','analyst','based','data','knowledge','discrimination','experience','description','summary','information','etc','eg','layers']\n",
    "stop.extend(new)\n",
    "job_df_clean=job_df_Desc.apply(lambda x:[item for item in x if item not in set(stop)])"
   ]
  },
  {
   "cell_type": "code",
   "execution_count": 11,
   "metadata": {},
   "outputs": [
    {
     "data": {
      "text/plain": [
       "0        [many, industries, hurt, last, people, still, ...\n",
       "1        [dynamic, creative, marketing, professional, l...\n",
       "2        [join, us, model, risk, auditor, showcase, fin...\n",
       "3        [business, managerfirst, baptist, church, forn...\n",
       "4        [could, one, magic, makers, ken, fulk, inc, se...\n",
       "                               ...                        \n",
       "15881    [location, west, columbia, sc, us, type, baker...\n",
       "15882    [title, unit, secretary, department, nursing, ...\n",
       "15883    [title, radiology, aide, perdiem, department, ...\n",
       "15884    [grade, type, officer, administrationbargainin...\n",
       "15885    [nexion, health, management, affiliates, opera...\n",
       "Name: tokenized_Description, Length: 15886, dtype: object"
      ]
     },
     "execution_count": 11,
     "metadata": {},
     "output_type": "execute_result"
    }
   ],
   "source": [
    "job_df.loc[:,'tokenized_Description'] = job_df_clean\n",
    "job_df.loc[:,'tokenized_Description']"
   ]
  },
  {
   "cell_type": "code",
   "execution_count": 12,
   "metadata": {},
   "outputs": [
    {
     "data": {
      "text/plain": [
       "0        [many, industries, hurt, last, people, still, ...\n",
       "1        [dynamic, creative, marketing, professional, l...\n",
       "2        [join, us, model, risk, auditor, showcase, fin...\n",
       "3        [business, managerfirst, baptist, church, forn...\n",
       "4        [could, one, magic, makers, ken, fulk, inc, se...\n",
       "                               ...                        \n",
       "15881    [location, west, columbia, sc, us, type, baker...\n",
       "15882    [title, unit, secretary, department, nursing, ...\n",
       "15883    [title, radiology, aide, perdiem, department, ...\n",
       "15884    [grade, type, officer, administrationbargainin...\n",
       "15885    [nexion, health, management, affiliates, opera...\n",
       "Name: tokenized_Description, Length: 15886, dtype: object"
      ]
     },
     "execution_count": 12,
     "metadata": {},
     "output_type": "execute_result"
    }
   ],
   "source": [
    "df = job_df\n",
    "df[\"description\"] = df[\"description\"].fillna(\"\")\n",
    "df[\"tokenized_Description\"]"
   ]
  },
  {
   "cell_type": "code",
   "execution_count": 13,
   "metadata": {},
   "outputs": [],
   "source": [
    "# save the data for faster loading\n",
    "df.to_csv('../data/job_posting_clean.csv', index=False)"
   ]
  },
  {
   "cell_type": "code",
   "execution_count": 13,
   "metadata": {},
   "outputs": [
    {
     "data": {
      "text/html": [
       "<div>\n",
       "<style scoped>\n",
       "    .dataframe tbody tr th:only-of-type {\n",
       "        vertical-align: middle;\n",
       "    }\n",
       "\n",
       "    .dataframe tbody tr th {\n",
       "        vertical-align: top;\n",
       "    }\n",
       "\n",
       "    .dataframe thead th {\n",
       "        text-align: right;\n",
       "    }\n",
       "</style>\n",
       "<table border=\"1\" class=\"dataframe\">\n",
       "  <thead>\n",
       "    <tr style=\"text-align: right;\">\n",
       "      <th></th>\n",
       "      <th>title</th>\n",
       "      <th>description</th>\n",
       "      <th>views</th>\n",
       "      <th>work_type</th>\n",
       "      <th>location</th>\n",
       "      <th>tokenized_Description</th>\n",
       "      <th>tokenized_desc_join</th>\n",
       "    </tr>\n",
       "  </thead>\n",
       "  <tbody>\n",
       "    <tr>\n",
       "      <th>0</th>\n",
       "      <td>Licensed Insurance Agent</td>\n",
       "      <td>While many industries were hurt by the last fe...</td>\n",
       "      <td>5.0</td>\n",
       "      <td>FULL_TIME</td>\n",
       "      <td>Chico, CA</td>\n",
       "      <td>[many, industries, hurt, last, people, still, ...</td>\n",
       "      <td>many industries hurt last people still need in...</td>\n",
       "    </tr>\n",
       "    <tr>\n",
       "      <th>1</th>\n",
       "      <td>Sales Manager</td>\n",
       "      <td>Are you a dynamic and creative marketing profe...</td>\n",
       "      <td>0.0</td>\n",
       "      <td>FULL_TIME</td>\n",
       "      <td>Santa Clarita, CA</td>\n",
       "      <td>[dynamic, creative, marketing, professional, l...</td>\n",
       "      <td>dynamic creative marketing professional lookin...</td>\n",
       "    </tr>\n",
       "    <tr>\n",
       "      <th>2</th>\n",
       "      <td>Model Risk Auditor</td>\n",
       "      <td>Join Us as a Model Risk Auditor – Showcase You...</td>\n",
       "      <td>17.0</td>\n",
       "      <td>CONTRACT</td>\n",
       "      <td>New York, NY</td>\n",
       "      <td>[join, us, model, risk, auditor, showcase, fin...</td>\n",
       "      <td>join us model risk auditor showcase financial ...</td>\n",
       "    </tr>\n",
       "    <tr>\n",
       "      <th>3</th>\n",
       "      <td>Business Manager</td>\n",
       "      <td>Business ManagerFirst Baptist Church ForneyFor...</td>\n",
       "      <td>0.0</td>\n",
       "      <td>FULL_TIME</td>\n",
       "      <td>Forney, TX</td>\n",
       "      <td>[business, managerfirst, baptist, church, forn...</td>\n",
       "      <td>business managerfirst baptist church forneyfor...</td>\n",
       "    </tr>\n",
       "    <tr>\n",
       "      <th>4</th>\n",
       "      <td>NY Studio Assistant</td>\n",
       "      <td>YOU COULD BE ONE OF THE MAGIC MAKERS\\nKen Fulk...</td>\n",
       "      <td>2.0</td>\n",
       "      <td>FULL_TIME</td>\n",
       "      <td>New York, NY</td>\n",
       "      <td>[could, one, magic, makers, ken, fulk, inc, se...</td>\n",
       "      <td>could one magic makers ken fulk inc seeking st...</td>\n",
       "    </tr>\n",
       "  </tbody>\n",
       "</table>\n",
       "</div>"
      ],
      "text/plain": [
       "                      title  \\\n",
       "0  Licensed Insurance Agent   \n",
       "1             Sales Manager   \n",
       "2        Model Risk Auditor   \n",
       "3          Business Manager   \n",
       "4       NY Studio Assistant   \n",
       "\n",
       "                                         description  views  work_type  \\\n",
       "0  While many industries were hurt by the last fe...    5.0  FULL_TIME   \n",
       "1  Are you a dynamic and creative marketing profe...    0.0  FULL_TIME   \n",
       "2  Join Us as a Model Risk Auditor – Showcase You...   17.0   CONTRACT   \n",
       "3  Business ManagerFirst Baptist Church ForneyFor...    0.0  FULL_TIME   \n",
       "4  YOU COULD BE ONE OF THE MAGIC MAKERS\\nKen Fulk...    2.0  FULL_TIME   \n",
       "\n",
       "            location                              tokenized_Description  \\\n",
       "0          Chico, CA  [many, industries, hurt, last, people, still, ...   \n",
       "1  Santa Clarita, CA  [dynamic, creative, marketing, professional, l...   \n",
       "2       New York, NY  [join, us, model, risk, auditor, showcase, fin...   \n",
       "3         Forney, TX  [business, managerfirst, baptist, church, forn...   \n",
       "4       New York, NY  [could, one, magic, makers, ken, fulk, inc, se...   \n",
       "\n",
       "                                 tokenized_desc_join  \n",
       "0  many industries hurt last people still need in...  \n",
       "1  dynamic creative marketing professional lookin...  \n",
       "2  join us model risk auditor showcase financial ...  \n",
       "3  business managerfirst baptist church forneyfor...  \n",
       "4  could one magic makers ken fulk inc seeking st...  "
      ]
     },
     "execution_count": 13,
     "metadata": {},
     "output_type": "execute_result"
    }
   ],
   "source": [
    "import regex as re\n",
    "df['tokenized_desc_join'] = [' '.join(map(str, l)) for l in df['tokenized_Description']]\n",
    "df.head()"
   ]
  },
  {
   "cell_type": "code",
   "execution_count": 15,
   "metadata": {},
   "outputs": [],
   "source": [
    "model = Word2Vec(df['tokenized_Description'] ,\n",
    "                               window=10,\n",
    "                               min_count=10,\n",
    "                               workers=5)\n",
    "model.train(df['tokenized_Description'] ,total_examples=700,epochs=model.epochs)\n",
    "model.build_vocab(df['tokenized_Description'],progress_per=100,update=True)"
   ]
  },
  {
   "cell_type": "code",
   "execution_count": 16,
   "metadata": {},
   "outputs": [
    {
     "data": {
      "text/plain": [
       "[('visualization', 0.7985669374465942),\n",
       " ('query', 0.7753959894180298),\n",
       " ('algorithms', 0.7731486558914185),\n",
       " ('modelling', 0.7662094831466675),\n",
       " ('ml', 0.7605063915252686),\n",
       " ('etcexperience', 0.7498724460601807),\n",
       " ('etl', 0.7469797134399414),\n",
       " ('scripting', 0.7458682060241699),\n",
       " ('hadoop', 0.7401319146156311),\n",
       " ('statistical', 0.7385110855102539),\n",
       " ('powerbi', 0.7306546568870544),\n",
       " ('sql', 0.7275976538658142),\n",
       " ('nosql', 0.7239373922348022),\n",
       " ('matlab', 0.7238629460334778),\n",
       " ('nlp', 0.7228360176086426),\n",
       " ('ingestion', 0.7217429876327515),\n",
       " ('frameworks', 0.7193996906280518),\n",
       " ('apache', 0.7174987196922302),\n",
       " ('tableau', 0.7145667672157288),\n",
       " ('redshift', 0.7137537002563477),\n",
       " ('teradata', 0.7131528258323669),\n",
       " ('dax', 0.7105910181999207),\n",
       " ('github', 0.7080237865447998),\n",
       " ('looker', 0.7056930065155029),\n",
       " ('relational', 0.7014707326889038)]"
      ]
     },
     "execution_count": 16,
     "metadata": {},
     "output_type": "execute_result"
    }
   ],
   "source": [
    "# data science specific skills\n",
    "model.wv.most_similar(['statistics', 'machine', 'r', 'python',\n",
    "                      'business', 'software', 'aws','sas','regression','predictive', 'modeling' ],topn=25)"
   ]
  },
  {
   "cell_type": "code",
   "execution_count": 17,
   "metadata": {},
   "outputs": [
    {
     "data": {
      "text/plain": [
       "[('treasury', 0.7155026793479919),\n",
       " ('valuation', 0.6031790375709534),\n",
       " ('transactional', 0.5983290672302246),\n",
       " ('financial', 0.5844983458518982),\n",
       " ('fp', 0.5818897485733032),\n",
       " ('budgeting', 0.5602940917015076),\n",
       " ('traders', 0.5552447438240051),\n",
       " ('cfo', 0.5439025163650513),\n",
       " ('financials', 0.534822940826416),\n",
       " ('erp', 0.5297772884368896)]"
      ]
     },
     "execution_count": 17,
     "metadata": {},
     "output_type": "execute_result"
    }
   ],
   "source": [
    "temp = model.wv.most_similar(['finance', 'accounting', 'banking', 'business', 'management'],topn=10,)\n",
    "temp"
   ]
  },
  {
   "cell_type": "code",
   "execution_count": 18,
   "metadata": {},
   "outputs": [
    {
     "data": {
      "text/plain": [
       "'valuation'"
      ]
     },
     "execution_count": 18,
     "metadata": {},
     "output_type": "execute_result"
    }
   ],
   "source": [
    "temp[1][0]"
   ]
  }
 ],
 "metadata": {
  "kernelspec": {
   "display_name": "Python 3",
   "language": "python",
   "name": "python3"
  },
  "language_info": {
   "codemirror_mode": {
    "name": "ipython",
    "version": 3
   },
   "file_extension": ".py",
   "mimetype": "text/x-python",
   "name": "python",
   "nbconvert_exporter": "python",
   "pygments_lexer": "ipython3",
   "version": "3.11.4"
  }
 },
 "nbformat": 4,
 "nbformat_minor": 2
}
