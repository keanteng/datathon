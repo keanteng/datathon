{
 "cells": [
  {
   "cell_type": "markdown",
   "metadata": {},
   "source": [
    "# Visualization OpenDOSM Data"
   ]
  },
  {
   "cell_type": "code",
   "execution_count": 1,
   "metadata": {},
   "outputs": [],
   "source": [
    "import pandas as pd\n",
    "import numpy as np\n",
    "import matplotlib.pyplot as plt\n",
    "import seaborn as sns\n",
    "import warnings\n",
    "\n",
    "warnings.filterwarnings('ignore')"
   ]
  },
  {
   "cell_type": "code",
   "execution_count": 2,
   "metadata": {},
   "outputs": [
    {
     "data": {
      "text/plain": [
       "['sector',\n",
       " 'skill',\n",
       " 'job_eco_act',\n",
       " 'vacancy_ads_sector',\n",
       " 'vacancy_ads_state',\n",
       " 'sector_wage_prob']"
      ]
     },
     "execution_count": 2,
     "metadata": {},
     "output_type": "execute_result"
    }
   ],
   "source": [
    "df1 = pd.ExcelFile('../data/dosm_demand.xlsx')\n",
    "df1.sheet_names"
   ]
  },
  {
   "cell_type": "code",
   "execution_count": 3,
   "metadata": {},
   "outputs": [
    {
     "data": {
      "text/plain": [
       "['state',\n",
       " 'ethnic',\n",
       " 'unemploy_cat',\n",
       " 'age',\n",
       " 'edu',\n",
       " 'occ',\n",
       " 'status',\n",
       " 'skill',\n",
       " 'reson_not_work']"
      ]
     },
     "execution_count": 3,
     "metadata": {},
     "output_type": "execute_result"
    }
   ],
   "source": [
    "df2 = pd.ExcelFile('../data/dosm_supply.xlsx')\n",
    "df2.sheet_names"
   ]
  },
  {
   "cell_type": "code",
   "execution_count": 5,
   "metadata": {},
   "outputs": [
    {
     "data": {
      "text/html": [
       "<div>\n",
       "<style scoped>\n",
       "    .dataframe tbody tr th:only-of-type {\n",
       "        vertical-align: middle;\n",
       "    }\n",
       "\n",
       "    .dataframe tbody tr th {\n",
       "        vertical-align: top;\n",
       "    }\n",
       "\n",
       "    .dataframe thead th {\n",
       "        text-align: right;\n",
       "    }\n",
       "</style>\n",
       "<table border=\"1\" class=\"dataframe\">\n",
       "  <thead>\n",
       "    <tr style=\"text-align: right;\">\n",
       "      <th></th>\n",
       "      <th>category</th>\n",
       "      <th>total</th>\n",
       "      <th>agriculture</th>\n",
       "      <th>mining</th>\n",
       "      <th>manufacturing</th>\n",
       "      <th>construction</th>\n",
       "      <th>services</th>\n",
       "    </tr>\n",
       "  </thead>\n",
       "  <tbody>\n",
       "    <tr>\n",
       "      <th>0</th>\n",
       "      <td>Jobs</td>\n",
       "      <td>8826.90</td>\n",
       "      <td>482.00</td>\n",
       "      <td>80.30</td>\n",
       "      <td>2428.60</td>\n",
       "      <td>1259.10</td>\n",
       "      <td>4576.90</td>\n",
       "    </tr>\n",
       "    <tr>\n",
       "      <th>1</th>\n",
       "      <td>Filled jobs</td>\n",
       "      <td>8637.30</td>\n",
       "      <td>451.30</td>\n",
       "      <td>79.90</td>\n",
       "      <td>2320.70</td>\n",
       "      <td>1235.30</td>\n",
       "      <td>4550.10</td>\n",
       "    </tr>\n",
       "    <tr>\n",
       "      <th>2</th>\n",
       "      <td>Vacancies</td>\n",
       "      <td>189.60</td>\n",
       "      <td>30.70</td>\n",
       "      <td>0.40</td>\n",
       "      <td>108.00</td>\n",
       "      <td>23.70</td>\n",
       "      <td>26.80</td>\n",
       "    </tr>\n",
       "    <tr>\n",
       "      <th>3</th>\n",
       "      <td>Jobs created</td>\n",
       "      <td>31.94</td>\n",
       "      <td>1.65</td>\n",
       "      <td>0.12</td>\n",
       "      <td>10.05</td>\n",
       "      <td>3.62</td>\n",
       "      <td>16.49</td>\n",
       "    </tr>\n",
       "    <tr>\n",
       "      <th>4</th>\n",
       "      <td>Rate of Filled Jobs</td>\n",
       "      <td>97.90</td>\n",
       "      <td>93.60</td>\n",
       "      <td>99.50</td>\n",
       "      <td>95.60</td>\n",
       "      <td>98.10</td>\n",
       "      <td>99.40</td>\n",
       "    </tr>\n",
       "  </tbody>\n",
       "</table>\n",
       "</div>"
      ],
      "text/plain": [
       "              category    total  agriculture  mining  manufacturing  \\\n",
       "0                 Jobs  8826.90       482.00   80.30        2428.60   \n",
       "1          Filled jobs  8637.30       451.30   79.90        2320.70   \n",
       "2            Vacancies   189.60        30.70    0.40         108.00   \n",
       "3         Jobs created    31.94         1.65    0.12          10.05   \n",
       "4  Rate of Filled Jobs    97.90        93.60   99.50          95.60   \n",
       "\n",
       "   construction  services  \n",
       "0       1259.10   4576.90  \n",
       "1       1235.30   4550.10  \n",
       "2         23.70     26.80  \n",
       "3          3.62     16.49  \n",
       "4         98.10     99.40  "
      ]
     },
     "execution_count": 5,
     "metadata": {},
     "output_type": "execute_result"
    }
   ],
   "source": [
    "sector = df1.parse('sector')\n",
    "sector.head()"
   ]
  }
 ],
 "metadata": {
  "kernelspec": {
   "display_name": "Python 3",
   "language": "python",
   "name": "python3"
  },
  "language_info": {
   "codemirror_mode": {
    "name": "ipython",
    "version": 3
   },
   "file_extension": ".py",
   "mimetype": "text/x-python",
   "name": "python",
   "nbconvert_exporter": "python",
   "pygments_lexer": "ipython3",
   "version": "3.11.4"
  }
 },
 "nbformat": 4,
 "nbformat_minor": 2
}
