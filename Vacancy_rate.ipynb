{
 "cells": [
  {
   "cell_type": "code",
   "execution_count": null,
   "metadata": {},
   "outputs": [],
   "source": [
    "# load the library for path\n",
    "from pathlib import Path\n",
    "import pandas as pd\n",
    "import openpyxl as xl\n",
    "import pandas as pd\n",
    "import numpy as np\n",
    "from statsmodels.tsa.holtwinters import ExponentialSmoothing\n",
    "import matplotlib.pyplot as plt\n",
    "from statsmodels.tsa.holtwinters import SimpleExpSmoothing\n",
    "from statsmodels.tsa.stattools import adfuller\n",
    "from pmdarima import auto_arima\n",
    "from sklearn.metrics import mean_squared_error, mean_absolute_error\n",
    "from numpy import *"
   ]
  },
  {
   "cell_type": "code",
   "execution_count": null,
   "metadata": {},
   "outputs": [],
   "source": [
    "# import data set\n",
    "data_dir = Path('../datathon')\n",
    "\n",
    "# read xlsx data set\n",
    "df = pd.read_csv(data_dir/'Job Vacancy by States.csv', index_col = [0], parse_dates=[0])\n",
    "\n",
    "# remove all the empty column\n",
    "df = df.dropna(axis=1, how='all')\n",
    "\n",
    "# plot the graph of job vacancy by states\n",
    "df.plot(figsize=(15, 6))\n",
    "plt.show()\n",
    "\n",
    "df.dropna(inplace=True)\n",
    "df"
   ]
  }
 ],
 "metadata": {
  "language_info": {
   "name": "python"
  }
 },
 "nbformat": 4,
 "nbformat_minor": 2
}
