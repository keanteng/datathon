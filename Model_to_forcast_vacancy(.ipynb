{
 "cells": [
  {
   "cell_type": "code",
   "execution_count": 265,
   "metadata": {},
   "outputs": [],
   "source": [
    "# load the library for path\n",
    "from pathlib import Path\n",
    "import pandas as pd\n",
    "import openpyxl as xl\n",
    "import pandas as pd\n",
    "import numpy as np\n",
    "from statsmodels.tsa.holtwinters import ExponentialSmoothing\n",
    "import matplotlib.pyplot as ax1\n",
    "from statsmodels.tsa.holtwinters import SimpleExpSmoothing\n",
    "from statsmodels.tsa.stattools import adfuller\n",
    "from pmdarima import auto_arima\n",
    "from sklearn.metrics import mean_squared_error, mean_absolute_error\n",
    "from numpy import *"
   ]
  },
  {
   "cell_type": "code",
   "execution_count": 266,
   "metadata": {},
   "outputs": [],
   "source": [
    "# import data set\n",
    "data_dir = Path('../datathon')\n",
    "\n",
    "# read xlsx data set\n",
    "df = pd.read_csv(data_dir/'Total Online Job Vacancy1.csv', index_col = [0], parse_dates=[0])\n",
    "\n",
    "# remove all the empty column\n",
    "df = df.dropna(axis=1, how='all')\n",
    "df.dropna(inplace=True)\n",
    "\n",
    "# read data set\n",
    "df_unemployment = pd.read_csv(data_dir /'Unemployment Rate.csv')\n",
    "\n",
    "# remove the empty columns\n",
    "df_unemployment = df_unemployment.dropna(axis=1, how='all')\n",
    "\n",
    "# change the type of df_employment as data frame\n",
    "df_unemployment = pd.DataFrame(df_unemployment)\n",
    "\n",
    "# change all the data in df_unemployment to float data except the date\n",
    "df_unemployment.iloc[:,1:] = df_unemployment.iloc[:,1:].astype(float)\n",
    "df_unemployment.iloc[:,0] = pd.to_datetime(df_unemployment.iloc[:,0])"
   ]
  },
  {
   "cell_type": "code",
   "execution_count": 267,
   "metadata": {},
   "outputs": [
    {
     "name": "stdout",
     "output_type": "stream",
     "text": [
      "<class 'pandas.core.frame.DataFrame'>\n",
      "RangeIndex: 18 entries, 0 to 17\n",
      "Data columns (total 18 columns):\n",
      " #   Column            Non-Null Count  Dtype  \n",
      "---  ------            --------------  -----  \n",
      " 0   Date              18 non-null     object \n",
      " 1   Johor             18 non-null     float64\n",
      " 2   Kedah             18 non-null     float64\n",
      " 3   Kelantan          18 non-null     float64\n",
      " 4   Melaka            18 non-null     float64\n",
      " 5   Negeri Sembilan   18 non-null     float64\n",
      " 6   Pahang            18 non-null     float64\n",
      " 7   Pulau Pinang      18 non-null     float64\n",
      " 8   Perak             18 non-null     float64\n",
      " 9   Perlis            18 non-null     float64\n",
      " 10  Selangor          18 non-null     float64\n",
      " 11  Terengganu        18 non-null     float64\n",
      " 12  Sabah             18 non-null     float64\n",
      " 13  Sarawak           18 non-null     float64\n",
      " 14  W.P Kuala Lumpur  18 non-null     float64\n",
      " 15  W.P Labuan        18 non-null     float64\n",
      " 16  W.P Putrajaya     18 non-null     float64\n",
      " 17  Total             18 non-null     float64\n",
      "dtypes: float64(17), object(1)\n",
      "memory usage: 2.7+ KB\n"
     ]
    }
   ],
   "source": [
    "df_unemployment.info()"
   ]
  },
  {
   "cell_type": "markdown",
   "metadata": {},
   "source": [
    "# Function for ETS and ARIMA test"
   ]
  },
  {
   "cell_type": "code",
   "execution_count": 268,
   "metadata": {},
   "outputs": [
    {
     "data": {
      "text/html": [
       "<div>\n",
       "<style scoped>\n",
       "    .dataframe tbody tr th:only-of-type {\n",
       "        vertical-align: middle;\n",
       "    }\n",
       "\n",
       "    .dataframe tbody tr th {\n",
       "        vertical-align: top;\n",
       "    }\n",
       "\n",
       "    .dataframe thead th {\n",
       "        text-align: right;\n",
       "    }\n",
       "</style>\n",
       "<table border=\"1\" class=\"dataframe\">\n",
       "  <thead>\n",
       "    <tr style=\"text-align: right;\">\n",
       "      <th></th>\n",
       "      <th>Negeri Sembilan</th>\n",
       "    </tr>\n",
       "  </thead>\n",
       "  <tbody>\n",
       "    <tr>\n",
       "      <th>0</th>\n",
       "      <td>1.7</td>\n",
       "    </tr>\n",
       "    <tr>\n",
       "      <th>1</th>\n",
       "      <td>1.3</td>\n",
       "    </tr>\n",
       "    <tr>\n",
       "      <th>2</th>\n",
       "      <td>1.6</td>\n",
       "    </tr>\n",
       "    <tr>\n",
       "      <th>3</th>\n",
       "      <td>1.6</td>\n",
       "    </tr>\n",
       "    <tr>\n",
       "      <th>4</th>\n",
       "      <td>1.2</td>\n",
       "    </tr>\n",
       "    <tr>\n",
       "      <th>5</th>\n",
       "      <td>2.2</td>\n",
       "    </tr>\n",
       "    <tr>\n",
       "      <th>6</th>\n",
       "      <td>2.5</td>\n",
       "    </tr>\n",
       "    <tr>\n",
       "      <th>7</th>\n",
       "      <td>3.7</td>\n",
       "    </tr>\n",
       "    <tr>\n",
       "      <th>8</th>\n",
       "      <td>3.6</td>\n",
       "    </tr>\n",
       "    <tr>\n",
       "      <th>9</th>\n",
       "      <td>3.6</td>\n",
       "    </tr>\n",
       "    <tr>\n",
       "      <th>10</th>\n",
       "      <td>3.0</td>\n",
       "    </tr>\n",
       "    <tr>\n",
       "      <th>11</th>\n",
       "      <td>3.1</td>\n",
       "    </tr>\n",
       "    <tr>\n",
       "      <th>12</th>\n",
       "      <td>3.0</td>\n",
       "    </tr>\n",
       "    <tr>\n",
       "      <th>13</th>\n",
       "      <td>3.2</td>\n",
       "    </tr>\n",
       "    <tr>\n",
       "      <th>14</th>\n",
       "      <td>2.6</td>\n",
       "    </tr>\n",
       "    <tr>\n",
       "      <th>15</th>\n",
       "      <td>2.7</td>\n",
       "    </tr>\n",
       "    <tr>\n",
       "      <th>16</th>\n",
       "      <td>2.9</td>\n",
       "    </tr>\n",
       "    <tr>\n",
       "      <th>17</th>\n",
       "      <td>2.7</td>\n",
       "    </tr>\n",
       "  </tbody>\n",
       "</table>\n",
       "</div>"
      ],
      "text/plain": [
       "    Negeri Sembilan\n",
       "0               1.7\n",
       "1               1.3\n",
       "2               1.6\n",
       "3               1.6\n",
       "4               1.2\n",
       "5               2.2\n",
       "6               2.5\n",
       "7               3.7\n",
       "8               3.6\n",
       "9               3.6\n",
       "10              3.0\n",
       "11              3.1\n",
       "12              3.0\n",
       "13              3.2\n",
       "14              2.6\n",
       "15              2.7\n",
       "16              2.9\n",
       "17              2.7"
      ]
     },
     "execution_count": 268,
     "metadata": {},
     "output_type": "execute_result"
    }
   ],
   "source": [
    "data.head(n = len(data))\n"
   ]
  },
  {
   "cell_type": "code",
   "execution_count": 269,
   "metadata": {},
   "outputs": [
    {
     "name": "stdout",
     "output_type": "stream",
     "text": [
      "Performing stepwise search to minimize aic\n"
     ]
    },
    {
     "name": "stderr",
     "output_type": "stream",
     "text": [
      "c:\\Users\\TAN YU JING\\AppData\\Local\\Programs\\Python\\Python312\\Lib\\site-packages\\statsmodels\\tsa\\statespace\\sarimax.py:1899: RuntimeWarning: divide by zero encountered in reciprocal\n",
      "  return np.roots(self.polynomial_reduced_ar)**-1\n",
      "c:\\Users\\TAN YU JING\\AppData\\Local\\Programs\\Python\\Python312\\Lib\\site-packages\\statsmodels\\tsa\\statespace\\sarimax.py:1906: RuntimeWarning: divide by zero encountered in reciprocal\n",
      "  return np.roots(self.polynomial_reduced_ma)**-1\n"
     ]
    },
    {
     "name": "stdout",
     "output_type": "stream",
     "text": [
      " ARIMA(1,0,1)(0,1,1)[12] intercept   : AIC=10.000, Time=0.29 sec\n",
      " ARIMA(0,0,0)(0,1,0)[12] intercept   : AIC=11.734, Time=0.01 sec\n",
      " ARIMA(1,0,0)(1,1,0)[12] intercept   : AIC=14.090, Time=0.14 sec\n",
      " ARIMA(0,0,1)(0,1,1)[12] intercept   : AIC=inf, Time=0.31 sec\n",
      " ARIMA(0,0,0)(0,1,0)[12]             : AIC=22.470, Time=0.00 sec\n",
      " ARIMA(1,0,1)(0,1,0)[12] intercept   : AIC=8.000, Time=0.15 sec\n"
     ]
    },
    {
     "name": "stderr",
     "output_type": "stream",
     "text": [
      "c:\\Users\\TAN YU JING\\AppData\\Local\\Programs\\Python\\Python312\\Lib\\site-packages\\statsmodels\\tsa\\statespace\\sarimax.py:1899: RuntimeWarning: divide by zero encountered in reciprocal\n",
      "  return np.roots(self.polynomial_reduced_ar)**-1\n",
      "c:\\Users\\TAN YU JING\\AppData\\Local\\Programs\\Python\\Python312\\Lib\\site-packages\\statsmodels\\tsa\\statespace\\sarimax.py:1906: RuntimeWarning: divide by zero encountered in reciprocal\n",
      "  return np.roots(self.polynomial_reduced_ma)**-1\n",
      "c:\\Users\\TAN YU JING\\AppData\\Local\\Programs\\Python\\Python312\\Lib\\site-packages\\statsmodels\\tsa\\statespace\\sarimax.py:1899: RuntimeWarning: divide by zero encountered in reciprocal\n",
      "  return np.roots(self.polynomial_reduced_ar)**-1\n",
      "c:\\Users\\TAN YU JING\\AppData\\Local\\Programs\\Python\\Python312\\Lib\\site-packages\\statsmodels\\tsa\\statespace\\sarimax.py:1906: RuntimeWarning: divide by zero encountered in reciprocal\n",
      "  return np.roots(self.polynomial_reduced_ma)**-1\n"
     ]
    },
    {
     "name": "stdout",
     "output_type": "stream",
     "text": [
      " ARIMA(1,0,1)(1,1,0)[12] intercept   : AIC=10.000, Time=0.25 sec\n"
     ]
    },
    {
     "name": "stderr",
     "output_type": "stream",
     "text": [
      "c:\\Users\\TAN YU JING\\AppData\\Local\\Programs\\Python\\Python312\\Lib\\site-packages\\statsmodels\\tsa\\statespace\\sarimax.py:1899: RuntimeWarning: divide by zero encountered in reciprocal\n",
      "  return np.roots(self.polynomial_reduced_ar)**-1\n",
      "c:\\Users\\TAN YU JING\\AppData\\Local\\Programs\\Python\\Python312\\Lib\\site-packages\\statsmodels\\tsa\\statespace\\sarimax.py:1906: RuntimeWarning: divide by zero encountered in reciprocal\n",
      "  return np.roots(self.polynomial_reduced_ma)**-1\n"
     ]
    },
    {
     "name": "stdout",
     "output_type": "stream",
     "text": [
      " ARIMA(1,0,1)(1,1,1)[12] intercept   : AIC=12.000, Time=0.26 sec\n",
      " ARIMA(0,0,1)(0,1,0)[12] intercept   : AIC=11.043, Time=0.05 sec\n",
      " ARIMA(1,0,0)(0,1,0)[12] intercept   : AIC=12.090, Time=0.02 sec\n"
     ]
    },
    {
     "name": "stderr",
     "output_type": "stream",
     "text": [
      "c:\\Users\\TAN YU JING\\AppData\\Local\\Programs\\Python\\Python312\\Lib\\site-packages\\statsmodels\\tsa\\statespace\\sarimax.py:1906: RuntimeWarning: divide by zero encountered in reciprocal\n",
      "  return np.roots(self.polynomial_reduced_ma)**-1\n"
     ]
    },
    {
     "name": "stdout",
     "output_type": "stream",
     "text": [
      " ARIMA(2,0,1)(0,1,0)[12] intercept   : AIC=10.000, Time=0.35 sec\n",
      " ARIMA(1,0,2)(0,1,0)[12] intercept   : AIC=inf, Time=0.17 sec\n",
      " ARIMA(0,0,2)(0,1,0)[12] intercept   : AIC=inf, Time=0.12 sec\n",
      " ARIMA(2,0,0)(0,1,0)[12] intercept   : AIC=12.565, Time=0.09 sec\n",
      " ARIMA(2,0,2)(0,1,0)[12] intercept   : AIC=16.052, Time=0.51 sec\n",
      " ARIMA(1,0,1)(0,1,0)[12]             : AIC=18.434, Time=0.24 sec\n",
      "\n",
      "Best model:  ARIMA(1,0,1)(0,1,0)[12] intercept\n",
      "Total fit time: 2.985 seconds\n"
     ]
    },
    {
     "ename": "ValueError",
     "evalue": "Input contains NaN.",
     "output_type": "error",
     "traceback": [
      "\u001b[1;31m---------------------------------------------------------------------------\u001b[0m",
      "\u001b[1;31mValueError\u001b[0m                                Traceback (most recent call last)",
      "\u001b[1;32mc:\\Academy\\学业\\UM YEAR 4 SEM 1\\SIT3010 Data Mining\\datathon\\datathon\\Model_to_forcast_vacancy(.ipynb Cell 6\u001b[0m line \u001b[0;36m1\n\u001b[0;32m      <a href='vscode-notebook-cell:/c%3A/Academy/%E5%AD%A6%E4%B8%9A/UM%20YEAR%204%20SEM%201/SIT3010%20Data%20Mining/datathon/datathon/Model_to_forcast_vacancy%28.ipynb#Y113sZmlsZQ%3D%3D?line=3'>4</a>\u001b[0m stepwise_model \u001b[39m=\u001b[39m auto_arima(data, start_p\u001b[39m=\u001b[39m\u001b[39m1\u001b[39m, start_q\u001b[39m=\u001b[39m\u001b[39m1\u001b[39m,\n\u001b[0;32m      <a href='vscode-notebook-cell:/c%3A/Academy/%E5%AD%A6%E4%B8%9A/UM%20YEAR%204%20SEM%201/SIT3010%20Data%20Mining/datathon/datathon/Model_to_forcast_vacancy%28.ipynb#Y113sZmlsZQ%3D%3D?line=4'>5</a>\u001b[0m                             max_p\u001b[39m=\u001b[39m\u001b[39m3\u001b[39m, max_q\u001b[39m=\u001b[39m\u001b[39m3\u001b[39m, m\u001b[39m=\u001b[39m\u001b[39m12\u001b[39m,\n\u001b[0;32m      <a href='vscode-notebook-cell:/c%3A/Academy/%E5%AD%A6%E4%B8%9A/UM%20YEAR%204%20SEM%201/SIT3010%20Data%20Mining/datathon/datathon/Model_to_forcast_vacancy%28.ipynb#Y113sZmlsZQ%3D%3D?line=5'>6</a>\u001b[0m                             start_P\u001b[39m=\u001b[39m\u001b[39m0\u001b[39m, seasonal\u001b[39m=\u001b[39m\u001b[39mTrue\u001b[39;00m,\n\u001b[1;32m   (...)\u001b[0m\n\u001b[0;32m      <a href='vscode-notebook-cell:/c%3A/Academy/%E5%AD%A6%E4%B8%9A/UM%20YEAR%204%20SEM%201/SIT3010%20Data%20Mining/datathon/datathon/Model_to_forcast_vacancy%28.ipynb#Y113sZmlsZQ%3D%3D?line=8'>9</a>\u001b[0m                             suppress_warnings\u001b[39m=\u001b[39m\u001b[39mTrue\u001b[39;00m,\n\u001b[0;32m     <a href='vscode-notebook-cell:/c%3A/Academy/%E5%AD%A6%E4%B8%9A/UM%20YEAR%204%20SEM%201/SIT3010%20Data%20Mining/datathon/datathon/Model_to_forcast_vacancy%28.ipynb#Y113sZmlsZQ%3D%3D?line=9'>10</a>\u001b[0m                             stepwise\u001b[39m=\u001b[39m\u001b[39mTrue\u001b[39;00m)\n\u001b[0;32m     <a href='vscode-notebook-cell:/c%3A/Academy/%E5%AD%A6%E4%B8%9A/UM%20YEAR%204%20SEM%201/SIT3010%20Data%20Mining/datathon/datathon/Model_to_forcast_vacancy%28.ipynb#Y113sZmlsZQ%3D%3D?line=10'>11</a>\u001b[0m stepwise_model\u001b[39m.\u001b[39mfit(data)\n\u001b[1;32m---> <a href='vscode-notebook-cell:/c%3A/Academy/%E5%AD%A6%E4%B8%9A/UM%20YEAR%204%20SEM%201/SIT3010%20Data%20Mining/datathon/datathon/Model_to_forcast_vacancy%28.ipynb#Y113sZmlsZQ%3D%3D?line=11'>12</a>\u001b[0m arima_pred \u001b[39m=\u001b[39m stepwise_model\u001b[39m.\u001b[39;49mpredict(n_periods\u001b[39m=\u001b[39;49m\u001b[39mlen\u001b[39;49m(data))\n",
      "File \u001b[1;32mc:\\Users\\TAN YU JING\\AppData\\Local\\Programs\\Python\\Python312\\Lib\\site-packages\\pmdarima\\arima\\arima.py:796\u001b[0m, in \u001b[0;36mARIMA.predict\u001b[1;34m(self, n_periods, X, return_conf_int, alpha, **kwargs)\u001b[0m\n\u001b[0;32m    793\u001b[0m arima \u001b[39m=\u001b[39m \u001b[39mself\u001b[39m\u001b[39m.\u001b[39marima_res_\n\u001b[0;32m    794\u001b[0m end \u001b[39m=\u001b[39m arima\u001b[39m.\u001b[39mnobs \u001b[39m+\u001b[39m n_periods \u001b[39m-\u001b[39m \u001b[39m1\u001b[39m\n\u001b[1;32m--> 796\u001b[0m f, conf_int \u001b[39m=\u001b[39m _seasonal_prediction_with_confidence(\n\u001b[0;32m    797\u001b[0m     arima_res\u001b[39m=\u001b[39;49marima,\n\u001b[0;32m    798\u001b[0m     start\u001b[39m=\u001b[39;49marima\u001b[39m.\u001b[39;49mnobs,\n\u001b[0;32m    799\u001b[0m     end\u001b[39m=\u001b[39;49mend,\n\u001b[0;32m    800\u001b[0m     X\u001b[39m=\u001b[39;49mX,\n\u001b[0;32m    801\u001b[0m     alpha\u001b[39m=\u001b[39;49malpha)\n\u001b[0;32m    803\u001b[0m \u001b[39mif\u001b[39;00m return_conf_int:\n\u001b[0;32m    804\u001b[0m     \u001b[39m# The confidence intervals may be a Pandas frame if it comes from\u001b[39;00m\n\u001b[0;32m    805\u001b[0m     \u001b[39m# SARIMAX & we want Numpy. We will to duck type it so we don't add\u001b[39;00m\n\u001b[0;32m    806\u001b[0m     \u001b[39m# new explicit requirements for the package\u001b[39;00m\n\u001b[0;32m    807\u001b[0m     \u001b[39mreturn\u001b[39;00m f, check_array(conf_int, force_all_finite\u001b[39m=\u001b[39m\u001b[39mFalse\u001b[39;00m)\n",
      "File \u001b[1;32mc:\\Users\\TAN YU JING\\AppData\\Local\\Programs\\Python\\Python312\\Lib\\site-packages\\pmdarima\\arima\\arima.py:205\u001b[0m, in \u001b[0;36m_seasonal_prediction_with_confidence\u001b[1;34m(arima_res, start, end, X, alpha, **kwargs)\u001b[0m\n\u001b[0;32m    202\u001b[0m     conf_int[:, \u001b[39m1\u001b[39m] \u001b[39m=\u001b[39m f \u001b[39m+\u001b[39m q \u001b[39m*\u001b[39m np\u001b[39m.\u001b[39msqrt(var)\n\u001b[0;32m    204\u001b[0m y_pred \u001b[39m=\u001b[39m check_endog(f, dtype\u001b[39m=\u001b[39m\u001b[39mNone\u001b[39;00m, copy\u001b[39m=\u001b[39m\u001b[39mFalse\u001b[39;00m, preserve_series\u001b[39m=\u001b[39m\u001b[39mTrue\u001b[39;00m)\n\u001b[1;32m--> 205\u001b[0m conf_int \u001b[39m=\u001b[39m check_array(conf_int, copy\u001b[39m=\u001b[39;49m\u001b[39mFalse\u001b[39;49;00m, dtype\u001b[39m=\u001b[39;49m\u001b[39mNone\u001b[39;49;00m)\n\u001b[0;32m    207\u001b[0m \u001b[39mreturn\u001b[39;00m y_pred, conf_int\n",
      "File \u001b[1;32mc:\\Users\\TAN YU JING\\AppData\\Local\\Programs\\Python\\Python312\\Lib\\site-packages\\sklearn\\utils\\validation.py:957\u001b[0m, in \u001b[0;36mcheck_array\u001b[1;34m(array, accept_sparse, accept_large_sparse, dtype, order, copy, force_all_finite, ensure_2d, allow_nd, ensure_min_samples, ensure_min_features, estimator, input_name)\u001b[0m\n\u001b[0;32m    951\u001b[0m         \u001b[39mraise\u001b[39;00m \u001b[39mValueError\u001b[39;00m(\n\u001b[0;32m    952\u001b[0m             \u001b[39m\"\u001b[39m\u001b[39mFound array with dim \u001b[39m\u001b[39m%d\u001b[39;00m\u001b[39m. \u001b[39m\u001b[39m%s\u001b[39;00m\u001b[39m expected <= 2.\u001b[39m\u001b[39m\"\u001b[39m\n\u001b[0;32m    953\u001b[0m             \u001b[39m%\u001b[39m (array\u001b[39m.\u001b[39mndim, estimator_name)\n\u001b[0;32m    954\u001b[0m         )\n\u001b[0;32m    956\u001b[0m     \u001b[39mif\u001b[39;00m force_all_finite:\n\u001b[1;32m--> 957\u001b[0m         _assert_all_finite(\n\u001b[0;32m    958\u001b[0m             array,\n\u001b[0;32m    959\u001b[0m             input_name\u001b[39m=\u001b[39;49minput_name,\n\u001b[0;32m    960\u001b[0m             estimator_name\u001b[39m=\u001b[39;49mestimator_name,\n\u001b[0;32m    961\u001b[0m             allow_nan\u001b[39m=\u001b[39;49mforce_all_finite \u001b[39m==\u001b[39;49m \u001b[39m\"\u001b[39;49m\u001b[39mallow-nan\u001b[39;49m\u001b[39m\"\u001b[39;49m,\n\u001b[0;32m    962\u001b[0m         )\n\u001b[0;32m    964\u001b[0m \u001b[39mif\u001b[39;00m ensure_min_samples \u001b[39m>\u001b[39m \u001b[39m0\u001b[39m:\n\u001b[0;32m    965\u001b[0m     n_samples \u001b[39m=\u001b[39m _num_samples(array)\n",
      "File \u001b[1;32mc:\\Users\\TAN YU JING\\AppData\\Local\\Programs\\Python\\Python312\\Lib\\site-packages\\sklearn\\utils\\validation.py:122\u001b[0m, in \u001b[0;36m_assert_all_finite\u001b[1;34m(X, allow_nan, msg_dtype, estimator_name, input_name)\u001b[0m\n\u001b[0;32m    119\u001b[0m \u001b[39mif\u001b[39;00m first_pass_isfinite:\n\u001b[0;32m    120\u001b[0m     \u001b[39mreturn\u001b[39;00m\n\u001b[1;32m--> 122\u001b[0m _assert_all_finite_element_wise(\n\u001b[0;32m    123\u001b[0m     X,\n\u001b[0;32m    124\u001b[0m     xp\u001b[39m=\u001b[39;49mxp,\n\u001b[0;32m    125\u001b[0m     allow_nan\u001b[39m=\u001b[39;49mallow_nan,\n\u001b[0;32m    126\u001b[0m     msg_dtype\u001b[39m=\u001b[39;49mmsg_dtype,\n\u001b[0;32m    127\u001b[0m     estimator_name\u001b[39m=\u001b[39;49mestimator_name,\n\u001b[0;32m    128\u001b[0m     input_name\u001b[39m=\u001b[39;49minput_name,\n\u001b[0;32m    129\u001b[0m )\n",
      "File \u001b[1;32mc:\\Users\\TAN YU JING\\AppData\\Local\\Programs\\Python\\Python312\\Lib\\site-packages\\sklearn\\utils\\validation.py:171\u001b[0m, in \u001b[0;36m_assert_all_finite_element_wise\u001b[1;34m(X, xp, allow_nan, msg_dtype, estimator_name, input_name)\u001b[0m\n\u001b[0;32m    154\u001b[0m \u001b[39mif\u001b[39;00m estimator_name \u001b[39mand\u001b[39;00m input_name \u001b[39m==\u001b[39m \u001b[39m\"\u001b[39m\u001b[39mX\u001b[39m\u001b[39m\"\u001b[39m \u001b[39mand\u001b[39;00m has_nan_error:\n\u001b[0;32m    155\u001b[0m     \u001b[39m# Improve the error message on how to handle missing values in\u001b[39;00m\n\u001b[0;32m    156\u001b[0m     \u001b[39m# scikit-learn.\u001b[39;00m\n\u001b[0;32m    157\u001b[0m     msg_err \u001b[39m+\u001b[39m\u001b[39m=\u001b[39m (\n\u001b[0;32m    158\u001b[0m         \u001b[39mf\u001b[39m\u001b[39m\"\u001b[39m\u001b[39m\\n\u001b[39;00m\u001b[39m{\u001b[39;00mestimator_name\u001b[39m}\u001b[39;00m\u001b[39m does not accept missing values\u001b[39m\u001b[39m\"\u001b[39m\n\u001b[0;32m    159\u001b[0m         \u001b[39m\"\u001b[39m\u001b[39m encoded as NaN natively. For supervised learning, you might want\u001b[39m\u001b[39m\"\u001b[39m\n\u001b[1;32m   (...)\u001b[0m\n\u001b[0;32m    169\u001b[0m         \u001b[39m\"\u001b[39m\u001b[39m#estimators-that-handle-nan-values\u001b[39m\u001b[39m\"\u001b[39m\n\u001b[0;32m    170\u001b[0m     )\n\u001b[1;32m--> 171\u001b[0m \u001b[39mraise\u001b[39;00m \u001b[39mValueError\u001b[39;00m(msg_err)\n",
      "\u001b[1;31mValueError\u001b[0m: Input contains NaN."
     ]
    }
   ],
   "source": [
    "data = df_unemployment['Negeri Sembilan']\n",
    "data = df_unemployment['Negeri Sembilan'].astype(float)\n",
    "data = pd.DataFrame(data)\n",
    "stepwise_model = auto_arima(data, start_p=1, start_q=1,\n",
    "                            max_p=3, max_q=3, m=12,\n",
    "                            start_P=0, seasonal=True,\n",
    "                            d=None, D=1, trace=True,\n",
    "                            error_action='ignore',\n",
    "                            suppress_warnings=True,\n",
    "                            stepwise=True)\n",
    "stepwise_model.fit(data)\n",
    "arima_pred = stepwise_model.predict(n_periods=len(data))"
   ]
  },
  {
   "cell_type": "code",
   "execution_count": null,
   "metadata": {},
   "outputs": [],
   "source": [
    "def ets_fore(data):\n",
    "    # ets test\n",
    "    ets_model = ExponentialSmoothing(df_unemployment, trend='add', seasonal='add', seasonal_periods=12)\n",
    "    ets_model_fit = ets_model.fit()\n",
    "    ets_pred = ets_model_fit.forecast(12)\n",
    "    return ets_pred\n",
    "\n",
    "def ARIMA_fore(data):\n",
    "    # arima test\n",
    "    stepwise_model = auto_arima(data, start_p=1, start_q=1,\n",
    "                                max_p=3, max_q=3, m=12,\n",
    "                                start_P=0, seasonal=True,\n",
    "                                d=None, D=1, trace=True,\n",
    "                                error_action='ignore',\n",
    "                                suppress_warnings=True,\n",
    "                                stepwise=True)\n",
    "    stepwise_model.fit(data)\n",
    "    arima_pred = stepwise_model.predict(n_periods=12)\n",
    "    return arima_pred"
   ]
  },
  {
   "cell_type": "markdown",
   "metadata": {},
   "source": [
    "# Unemployment Rate "
   ]
  },
  {
   "cell_type": "code",
   "execution_count": null,
   "metadata": {},
   "outputs": [],
   "source": [
    "UETS_Johor = ExponentialSmoothing(df_unemployment['Johor'], trend='mul', seasonal='mul', seasonal_periods=6)\n",
    "uets_johor_model_fit = UETS_Johor.fit()\n",
    "uets_johor_pred = uets_johor_model_fit.forecast(12)\n",
    "\n",
    "UETS_Kedah = ExponentialSmoothing(df_unemployment['Kedah'], trend='mul', seasonal='mul', seasonal_periods=6)\n",
    "uets_kedah_model_fit = UETS_Kedah.fit()\n",
    "uets_kedah_pred = uets_kedah_model_fit.forecast(12)\n",
    "\n",
    "UETS_Kelantan = ExponentialSmoothing(df_unemployment['Kelantan'], trend='mul', seasonal='mul', seasonal_periods=6)\n",
    "uets_kelantan_model_fit = UETS_Kelantan.fit()\n",
    "uets_kelantan_pred = uets_kelantan_model_fit.forecast(12)\n",
    "\n",
    "UETS_Melaka = ExponentialSmoothing(df_unemployment['Melaka'], trend='add', seasonal='mul', seasonal_periods=6)\n",
    "uets_melaka_model_fit = UETS_Melaka.fit()\n",
    "uets_melaka_pred = uets_melaka_model_fit.forecast(12)\n",
    "\n",
    "UETS_Pahang = ExponentialSmoothing(df_unemployment['Pahang'], trend='mul', seasonal='add', seasonal_periods=6)\n",
    "uets_pahang_model_fit = UETS_Pahang.fit()\n",
    "uets_pahang_pred = uets_pahang_model_fit.forecast(12)\n",
    "\n",
    "UETS_Perak = ExponentialSmoothing(df_unemployment['Perak'], trend='mul', seasonal='add', seasonal_periods=6)\n",
    "uets_perak_model_fit = UETS_Perak.fit()\n",
    "uets_perak_pred = uets_perak_model_fit.forecast(12)\n",
    "\n",
    "UETS_Perlis = ExponentialSmoothing(df_unemployment['Perlis'], trend='mul', seasonal='add', seasonal_periods=6)\n",
    "uets_perlis_model_fit = UETS_Perlis.fit()\n",
    "uets_perlis_pred = uets_perlis_model_fit.forecast(12)\n",
    "\n",
    "UETS_Sabah = ExponentialSmoothing(df_unemployment['Sabah'], trend='add', seasonal='add', seasonal_periods=6)\n",
    "uets_sabah_model_fit = UETS_Sabah.fit()\n",
    "uets_sabah_pred = uets_sabah_model_fit.forecast(12)\n",
    "\n",
    "UETS_Sarawak = ExponentialSmoothing(df_unemployment['Sarawak'], trend='mul', seasonal='mul', seasonal_periods=6)\n",
    "uets_sarawak_model_fit = UETS_Sarawak.fit()\n",
    "uets_sarawak_pred = uets_sarawak_model_fit.forecast(12)\n",
    "\n",
    "UETS_Selangor = ExponentialSmoothing(df_unemployment['Selangor'], trend='mul', seasonal='mul', seasonal_periods=6)\n",
    "uets_selangor_model_fit = UETS_Selangor.fit()\n",
    "uets_selangor_pred = uets_selangor_model_fit.forecast(12)\n",
    "\n",
    "UETS_Terengganu = ExponentialSmoothing(df_unemployment['Terengganu'], trend='add', seasonal='mul', seasonal_periods=6)\n",
    "uets_terengganu_model_fit = UETS_Terengganu.fit()\n",
    "uets_terengganu_pred = uets_terengganu_model_fit.forecast(12)\n",
    "\n",
    "UETS_Labuan = ExponentialSmoothing(df_unemployment['W.P Labuan'], trend='mul', seasonal='mul', seasonal_periods=6)\n",
    "uets_labuan_model_fit = UETS_Labuan.fit()\n",
    "uets_labuan_pred = uets_labuan_model_fit.forecast(12)"
   ]
  },
  {
   "cell_type": "code",
   "execution_count": null,
   "metadata": {},
   "outputs": [],
   "source": [
    "# Change the data type of df_unemployment as data frame\n",
    "df_unemployment = pd.DataFrame(df_unemployment) \n",
    "df_unemployment.iloc[:,1:] = df_unemployment.iloc[:,1:].astype(float)\n",
    "df_unemployment.iloc[:,0] = pd.to_datetime(df_unemployment.iloc[:,0])\n",
    "df_unemployment.head(5)"
   ]
  },
  {
   "cell_type": "code",
   "execution_count": null,
   "metadata": {},
   "outputs": [],
   "source": [
    "# Change the data to float type except the date column\n",
    "df.iloc[:,1:] = df.iloc[:,1:].astype(float64)\n",
    "df.iloc[:,0] = pd.to_datetime(df.iloc[:,0])"
   ]
  },
  {
   "cell_type": "code",
   "execution_count": null,
   "metadata": {},
   "outputs": [],
   "source": [
    "UARIMA_KL = ARIMA_fore(df_unemployment[['W.P Kuala Lumpur']])\n"
   ]
  },
  {
   "cell_type": "code",
   "execution_count": null,
   "metadata": {},
   "outputs": [],
   "source": [
    "# remove the empty columns\n",
    "UARIMA_N9 = ARIMA_fore(df_unemployment[['Negeri Sembilan']])\n",
    "UARIMA_Penang = ARIMA_fore(df_unemployment[['Pulau Pinang']])\n",
    "UARIMA_KL = ARIMA_fore(df_unemployment[['W.P Kuala Lumpur']])\n",
    "UARIMA_Putrajaya = ARIMA_fore(df_unemployment[['W.P Putrajaya']])\n",
    "UARIMA_Malaysia = ARIMA_fore(df_unemployment[['Total']])"
   ]
  },
  {
   "cell_type": "markdown",
   "metadata": {},
   "source": [
    "## Double y-axis Plot"
   ]
  },
  {
   "cell_type": "code",
   "execution_count": 270,
   "metadata": {},
   "outputs": [
    {
     "data": {
      "text/plain": [
       "<matplotlib.legend.Legend at 0x1434be82150>"
      ]
     },
     "execution_count": 270,
     "metadata": {},
     "output_type": "execute_result"
    },
    {
     "data": {
      "image/png": "[encoded data removed]",
      "text/plain": [
       "<Figure size 640x480 with 2 Axes>"
      ]
     },
     "metadata": {},
     "output_type": "display_data"
    },
    {
     "data": {
      "text/plain": [
       "<Figure size 2000x1000 with 0 Axes>"
      ]
     },
     "metadata": {},
     "output_type": "display_data"
    }
   ],
   "source": [
    "# Create the first y-axis plot\n",
    "fig, ax1 = plt.subplots()\n",
    "\n",
    "# Plot the first dataset on the first y-axis\n",
    "plt.figure(figsize=(20,10))\n",
    "ax1.plot(df['Johor'], 'b', label='Y1')\n",
    "ax1.set_xlabel('X-axis')\n",
    "ax1.set_ylabel('Job Vacancy', color='b')\n",
    "ax1.tick_params(axis='y', labelcolor='b')\n",
    "\n",
    "# Create the second y-axis on the right\n",
    "ax2 = ax1.twinx()\n",
    "\n",
    "# Plot the second dataset on the second y-axis\n",
    "ax2.plot(df_unemployment['Johor'], 'r', label='Y2')\n",
    "ax2.set_ylabel('Unemployment Rate', color='r')\n",
    "ax2.tick_params(axis='y', labelcolor='r')\n",
    "\n",
    "# Add a legend for both datasets\n",
    "ax1.legend(loc='upper left')\n",
    "ax2.legend(loc='upper right')\n"
   ]
  },
  {
   "cell_type": "markdown",
   "metadata": {},
   "source": [
    "# Job Vacancy in Malaysia"
   ]
  },
  {
   "cell_type": "code",
   "execution_count": null,
   "metadata": {},
   "outputs": [
    {
     "ename": "ValueError",
     "evalue": "Pandas data cast to numpy dtype of object. Check input data with np.asarray(data).",
     "output_type": "error",
     "traceback": [
      "\u001b[1;31m---------------------------------------------------------------------------\u001b[0m",
      "\u001b[1;31mValueError\u001b[0m                                Traceback (most recent call last)",
      "\u001b[1;32mc:\\Academy\\学业\\UM YEAR 4 SEM 1\\SIT3010 Data Mining\\datathon\\datathon\\Model_to_forcast_vacancy(.ipynb Cell 16\u001b[0m line \u001b[0;36m2\n\u001b[0;32m      <a href='vscode-notebook-cell:/c%3A/Academy/%E5%AD%A6%E4%B8%9A/UM%20YEAR%204%20SEM%201/SIT3010%20Data%20Mining/datathon/datathon/Model_to_forcast_vacancy%28.ipynb#W4sZmlsZQ%3D%3D?line=0'>1</a>\u001b[0m \u001b[39m# ETS prediction\u001b[39;00m\n\u001b[1;32m----> <a href='vscode-notebook-cell:/c%3A/Academy/%E5%AD%A6%E4%B8%9A/UM%20YEAR%204%20SEM%201/SIT3010%20Data%20Mining/datathon/datathon/Model_to_forcast_vacancy%28.ipynb#W4sZmlsZQ%3D%3D?line=1'>2</a>\u001b[0m Kedah_pred \u001b[39m=\u001b[39m ets_fore(df[\u001b[39m'\u001b[39;49m\u001b[39mKedah\u001b[39;49m\u001b[39m'\u001b[39;49m])\n\u001b[0;32m      <a href='vscode-notebook-cell:/c%3A/Academy/%E5%AD%A6%E4%B8%9A/UM%20YEAR%204%20SEM%201/SIT3010%20Data%20Mining/datathon/datathon/Model_to_forcast_vacancy%28.ipynb#W4sZmlsZQ%3D%3D?line=2'>3</a>\u001b[0m Pahang_pred \u001b[39m=\u001b[39m ets_fore(df[\u001b[39m'\u001b[39m\u001b[39mPahang\u001b[39m\u001b[39m'\u001b[39m])\n\u001b[0;32m      <a href='vscode-notebook-cell:/c%3A/Academy/%E5%AD%A6%E4%B8%9A/UM%20YEAR%204%20SEM%201/SIT3010%20Data%20Mining/datathon/datathon/Model_to_forcast_vacancy%28.ipynb#W4sZmlsZQ%3D%3D?line=3'>4</a>\u001b[0m Sabah_pred \u001b[39m=\u001b[39m ets_fore(df[\u001b[39m'\u001b[39m\u001b[39mSabah\u001b[39m\u001b[39m'\u001b[39m])\n",
      "\u001b[1;32mc:\\Academy\\学业\\UM YEAR 4 SEM 1\\SIT3010 Data Mining\\datathon\\datathon\\Model_to_forcast_vacancy(.ipynb Cell 16\u001b[0m line \u001b[0;36m3\n\u001b[0;32m      <a href='vscode-notebook-cell:/c%3A/Academy/%E5%AD%A6%E4%B8%9A/UM%20YEAR%204%20SEM%201/SIT3010%20Data%20Mining/datathon/datathon/Model_to_forcast_vacancy%28.ipynb#W4sZmlsZQ%3D%3D?line=0'>1</a>\u001b[0m \u001b[39mdef\u001b[39;00m \u001b[39mets_fore\u001b[39m(data):\n\u001b[0;32m      <a href='vscode-notebook-cell:/c%3A/Academy/%E5%AD%A6%E4%B8%9A/UM%20YEAR%204%20SEM%201/SIT3010%20Data%20Mining/datathon/datathon/Model_to_forcast_vacancy%28.ipynb#W4sZmlsZQ%3D%3D?line=1'>2</a>\u001b[0m     \u001b[39m# ets test\u001b[39;00m\n\u001b[1;32m----> <a href='vscode-notebook-cell:/c%3A/Academy/%E5%AD%A6%E4%B8%9A/UM%20YEAR%204%20SEM%201/SIT3010%20Data%20Mining/datathon/datathon/Model_to_forcast_vacancy%28.ipynb#W4sZmlsZQ%3D%3D?line=2'>3</a>\u001b[0m     ets_model \u001b[39m=\u001b[39m ExponentialSmoothing(df_unemployment, trend\u001b[39m=\u001b[39;49m\u001b[39m'\u001b[39;49m\u001b[39madd\u001b[39;49m\u001b[39m'\u001b[39;49m, seasonal\u001b[39m=\u001b[39;49m\u001b[39m'\u001b[39;49m\u001b[39madd\u001b[39;49m\u001b[39m'\u001b[39;49m, seasonal_periods\u001b[39m=\u001b[39;49m\u001b[39m12\u001b[39;49m)\n\u001b[0;32m      <a href='vscode-notebook-cell:/c%3A/Academy/%E5%AD%A6%E4%B8%9A/UM%20YEAR%204%20SEM%201/SIT3010%20Data%20Mining/datathon/datathon/Model_to_forcast_vacancy%28.ipynb#W4sZmlsZQ%3D%3D?line=3'>4</a>\u001b[0m     ets_model_fit \u001b[39m=\u001b[39m ets_model\u001b[39m.\u001b[39mfit()\n\u001b[0;32m      <a href='vscode-notebook-cell:/c%3A/Academy/%E5%AD%A6%E4%B8%9A/UM%20YEAR%204%20SEM%201/SIT3010%20Data%20Mining/datathon/datathon/Model_to_forcast_vacancy%28.ipynb#W4sZmlsZQ%3D%3D?line=4'>5</a>\u001b[0m     ets_pred \u001b[39m=\u001b[39m ets_model_fit\u001b[39m.\u001b[39mforecast(\u001b[39m12\u001b[39m)\n",
      "File \u001b[1;32mc:\\Users\\TAN YU JING\\AppData\\Local\\Programs\\Python\\Python312\\Lib\\site-packages\\pandas\\util\\_decorators.py:213\u001b[0m, in \u001b[0;36mdeprecate_kwarg.<locals>._deprecate_kwarg.<locals>.wrapper\u001b[1;34m(*args, **kwargs)\u001b[0m\n\u001b[0;32m    211\u001b[0m         \u001b[39mraise\u001b[39;00m \u001b[39mTypeError\u001b[39;00m(msg)\n\u001b[0;32m    212\u001b[0m     kwargs[new_arg_name] \u001b[39m=\u001b[39m new_arg_value\n\u001b[1;32m--> 213\u001b[0m \u001b[39mreturn\u001b[39;00m func(\u001b[39m*\u001b[39;49margs, \u001b[39m*\u001b[39;49m\u001b[39m*\u001b[39;49mkwargs)\n",
      "File \u001b[1;32mc:\\Users\\TAN YU JING\\AppData\\Local\\Programs\\Python\\Python312\\Lib\\site-packages\\statsmodels\\tsa\\holtwinters\\model.py:226\u001b[0m, in \u001b[0;36mExponentialSmoothing.__init__\u001b[1;34m(self, endog, trend, damped_trend, seasonal, seasonal_periods, initialization_method, initial_level, initial_trend, initial_seasonal, use_boxcox, bounds, dates, freq, missing)\u001b[0m\n\u001b[0;32m    207\u001b[0m \u001b[39m@deprecate_kwarg\u001b[39m(\u001b[39m\"\u001b[39m\u001b[39mdamped\u001b[39m\u001b[39m\"\u001b[39m, \u001b[39m\"\u001b[39m\u001b[39mdamped_trend\u001b[39m\u001b[39m\"\u001b[39m)\n\u001b[0;32m    208\u001b[0m \u001b[39mdef\u001b[39;00m \u001b[39m__init__\u001b[39m(\n\u001b[0;32m    209\u001b[0m     \u001b[39mself\u001b[39m,\n\u001b[1;32m   (...)\u001b[0m\n\u001b[0;32m    224\u001b[0m     missing\u001b[39m=\u001b[39m\u001b[39m\"\u001b[39m\u001b[39mnone\u001b[39m\u001b[39m\"\u001b[39m,\n\u001b[0;32m    225\u001b[0m ):\n\u001b[1;32m--> 226\u001b[0m     \u001b[39msuper\u001b[39;49m()\u001b[39m.\u001b[39;49m\u001b[39m__init__\u001b[39;49m(endog, \u001b[39mNone\u001b[39;49;00m, dates, freq, missing\u001b[39m=\u001b[39;49mmissing)\n\u001b[0;32m    227\u001b[0m     \u001b[39mself\u001b[39m\u001b[39m.\u001b[39m_y \u001b[39m=\u001b[39m \u001b[39mself\u001b[39m\u001b[39m.\u001b[39m_data \u001b[39m=\u001b[39m array_like(\n\u001b[0;32m    228\u001b[0m         endog, \u001b[39m\"\u001b[39m\u001b[39mendog\u001b[39m\u001b[39m\"\u001b[39m, ndim\u001b[39m=\u001b[39m\u001b[39m1\u001b[39m, contiguous\u001b[39m=\u001b[39m\u001b[39mTrue\u001b[39;00m, order\u001b[39m=\u001b[39m\u001b[39m\"\u001b[39m\u001b[39mC\u001b[39m\u001b[39m\"\u001b[39m\n\u001b[0;32m    229\u001b[0m     )\n\u001b[0;32m    230\u001b[0m     options \u001b[39m=\u001b[39m (\u001b[39m\"\u001b[39m\u001b[39madd\u001b[39m\u001b[39m\"\u001b[39m, \u001b[39m\"\u001b[39m\u001b[39mmul\u001b[39m\u001b[39m\"\u001b[39m, \u001b[39m\"\u001b[39m\u001b[39madditive\u001b[39m\u001b[39m\"\u001b[39m, \u001b[39m\"\u001b[39m\u001b[39mmultiplicative\u001b[39m\u001b[39m\"\u001b[39m)\n",
      "File \u001b[1;32mc:\\Users\\TAN YU JING\\AppData\\Local\\Programs\\Python\\Python312\\Lib\\site-packages\\statsmodels\\tsa\\base\\tsa_model.py:470\u001b[0m, in \u001b[0;36mTimeSeriesModel.__init__\u001b[1;34m(self, endog, exog, dates, freq, missing, **kwargs)\u001b[0m\n\u001b[0;32m    467\u001b[0m \u001b[39mdef\u001b[39;00m \u001b[39m__init__\u001b[39m(\n\u001b[0;32m    468\u001b[0m     \u001b[39mself\u001b[39m, endog, exog\u001b[39m=\u001b[39m\u001b[39mNone\u001b[39;00m, dates\u001b[39m=\u001b[39m\u001b[39mNone\u001b[39;00m, freq\u001b[39m=\u001b[39m\u001b[39mNone\u001b[39;00m, missing\u001b[39m=\u001b[39m\u001b[39m\"\u001b[39m\u001b[39mnone\u001b[39m\u001b[39m\"\u001b[39m, \u001b[39m*\u001b[39m\u001b[39m*\u001b[39mkwargs\n\u001b[0;32m    469\u001b[0m ):\n\u001b[1;32m--> 470\u001b[0m     \u001b[39msuper\u001b[39;49m()\u001b[39m.\u001b[39;49m\u001b[39m__init__\u001b[39;49m(endog, exog, missing\u001b[39m=\u001b[39;49mmissing, \u001b[39m*\u001b[39;49m\u001b[39m*\u001b[39;49mkwargs)\n\u001b[0;32m    472\u001b[0m     \u001b[39m# Date handling in indexes\u001b[39;00m\n\u001b[0;32m    473\u001b[0m     \u001b[39mself\u001b[39m\u001b[39m.\u001b[39m_init_dates(dates, freq)\n",
      "File \u001b[1;32mc:\\Users\\TAN YU JING\\AppData\\Local\\Programs\\Python\\Python312\\Lib\\site-packages\\statsmodels\\base\\model.py:270\u001b[0m, in \u001b[0;36mLikelihoodModel.__init__\u001b[1;34m(self, endog, exog, **kwargs)\u001b[0m\n\u001b[0;32m    269\u001b[0m \u001b[39mdef\u001b[39;00m \u001b[39m__init__\u001b[39m(\u001b[39mself\u001b[39m, endog, exog\u001b[39m=\u001b[39m\u001b[39mNone\u001b[39;00m, \u001b[39m*\u001b[39m\u001b[39m*\u001b[39mkwargs):\n\u001b[1;32m--> 270\u001b[0m     \u001b[39msuper\u001b[39;49m()\u001b[39m.\u001b[39;49m\u001b[39m__init__\u001b[39;49m(endog, exog, \u001b[39m*\u001b[39;49m\u001b[39m*\u001b[39;49mkwargs)\n\u001b[0;32m    271\u001b[0m     \u001b[39mself\u001b[39m\u001b[39m.\u001b[39minitialize()\n",
      "File \u001b[1;32mc:\\Users\\TAN YU JING\\AppData\\Local\\Programs\\Python\\Python312\\Lib\\site-packages\\statsmodels\\base\\model.py:95\u001b[0m, in \u001b[0;36mModel.__init__\u001b[1;34m(self, endog, exog, **kwargs)\u001b[0m\n\u001b[0;32m     93\u001b[0m missing \u001b[39m=\u001b[39m kwargs\u001b[39m.\u001b[39mpop(\u001b[39m'\u001b[39m\u001b[39mmissing\u001b[39m\u001b[39m'\u001b[39m, \u001b[39m'\u001b[39m\u001b[39mnone\u001b[39m\u001b[39m'\u001b[39m)\n\u001b[0;32m     94\u001b[0m hasconst \u001b[39m=\u001b[39m kwargs\u001b[39m.\u001b[39mpop(\u001b[39m'\u001b[39m\u001b[39mhasconst\u001b[39m\u001b[39m'\u001b[39m, \u001b[39mNone\u001b[39;00m)\n\u001b[1;32m---> 95\u001b[0m \u001b[39mself\u001b[39m\u001b[39m.\u001b[39mdata \u001b[39m=\u001b[39m \u001b[39mself\u001b[39;49m\u001b[39m.\u001b[39;49m_handle_data(endog, exog, missing, hasconst,\n\u001b[0;32m     96\u001b[0m                               \u001b[39m*\u001b[39;49m\u001b[39m*\u001b[39;49mkwargs)\n\u001b[0;32m     97\u001b[0m \u001b[39mself\u001b[39m\u001b[39m.\u001b[39mk_constant \u001b[39m=\u001b[39m \u001b[39mself\u001b[39m\u001b[39m.\u001b[39mdata\u001b[39m.\u001b[39mk_constant\n\u001b[0;32m     98\u001b[0m \u001b[39mself\u001b[39m\u001b[39m.\u001b[39mexog \u001b[39m=\u001b[39m \u001b[39mself\u001b[39m\u001b[39m.\u001b[39mdata\u001b[39m.\u001b[39mexog\n",
      "File \u001b[1;32mc:\\Users\\TAN YU JING\\AppData\\Local\\Programs\\Python\\Python312\\Lib\\site-packages\\statsmodels\\base\\model.py:135\u001b[0m, in \u001b[0;36mModel._handle_data\u001b[1;34m(self, endog, exog, missing, hasconst, **kwargs)\u001b[0m\n\u001b[0;32m    134\u001b[0m \u001b[39mdef\u001b[39;00m \u001b[39m_handle_data\u001b[39m(\u001b[39mself\u001b[39m, endog, exog, missing, hasconst, \u001b[39m*\u001b[39m\u001b[39m*\u001b[39mkwargs):\n\u001b[1;32m--> 135\u001b[0m     data \u001b[39m=\u001b[39m handle_data(endog, exog, missing, hasconst, \u001b[39m*\u001b[39;49m\u001b[39m*\u001b[39;49mkwargs)\n\u001b[0;32m    136\u001b[0m     \u001b[39m# kwargs arrays could have changed, easier to just attach here\u001b[39;00m\n\u001b[0;32m    137\u001b[0m     \u001b[39mfor\u001b[39;00m key \u001b[39min\u001b[39;00m kwargs:\n",
      "File \u001b[1;32mc:\\Users\\TAN YU JING\\AppData\\Local\\Programs\\Python\\Python312\\Lib\\site-packages\\statsmodels\\base\\data.py:675\u001b[0m, in \u001b[0;36mhandle_data\u001b[1;34m(endog, exog, missing, hasconst, **kwargs)\u001b[0m\n\u001b[0;32m    672\u001b[0m     exog \u001b[39m=\u001b[39m np\u001b[39m.\u001b[39masarray(exog)\n\u001b[0;32m    674\u001b[0m klass \u001b[39m=\u001b[39m handle_data_class_factory(endog, exog)\n\u001b[1;32m--> 675\u001b[0m \u001b[39mreturn\u001b[39;00m klass(endog, exog\u001b[39m=\u001b[39;49mexog, missing\u001b[39m=\u001b[39;49mmissing, hasconst\u001b[39m=\u001b[39;49mhasconst,\n\u001b[0;32m    676\u001b[0m              \u001b[39m*\u001b[39;49m\u001b[39m*\u001b[39;49mkwargs)\n",
      "File \u001b[1;32mc:\\Users\\TAN YU JING\\AppData\\Local\\Programs\\Python\\Python312\\Lib\\site-packages\\statsmodels\\base\\data.py:84\u001b[0m, in \u001b[0;36mModelData.__init__\u001b[1;34m(self, endog, exog, missing, hasconst, **kwargs)\u001b[0m\n\u001b[0;32m     82\u001b[0m     \u001b[39mself\u001b[39m\u001b[39m.\u001b[39morig_endog \u001b[39m=\u001b[39m endog\n\u001b[0;32m     83\u001b[0m     \u001b[39mself\u001b[39m\u001b[39m.\u001b[39morig_exog \u001b[39m=\u001b[39m exog\n\u001b[1;32m---> 84\u001b[0m     \u001b[39mself\u001b[39m\u001b[39m.\u001b[39mendog, \u001b[39mself\u001b[39m\u001b[39m.\u001b[39mexog \u001b[39m=\u001b[39m \u001b[39mself\u001b[39;49m\u001b[39m.\u001b[39;49m_convert_endog_exog(endog, exog)\n\u001b[0;32m     86\u001b[0m \u001b[39mself\u001b[39m\u001b[39m.\u001b[39mconst_idx \u001b[39m=\u001b[39m \u001b[39mNone\u001b[39;00m\n\u001b[0;32m     87\u001b[0m \u001b[39mself\u001b[39m\u001b[39m.\u001b[39mk_constant \u001b[39m=\u001b[39m \u001b[39m0\u001b[39m\n",
      "File \u001b[1;32mc:\\Users\\TAN YU JING\\AppData\\Local\\Programs\\Python\\Python312\\Lib\\site-packages\\statsmodels\\base\\data.py:509\u001b[0m, in \u001b[0;36mPandasData._convert_endog_exog\u001b[1;34m(self, endog, exog)\u001b[0m\n\u001b[0;32m    507\u001b[0m exog \u001b[39m=\u001b[39m exog \u001b[39mif\u001b[39;00m exog \u001b[39mis\u001b[39;00m \u001b[39mNone\u001b[39;00m \u001b[39melse\u001b[39;00m np\u001b[39m.\u001b[39masarray(exog)\n\u001b[0;32m    508\u001b[0m \u001b[39mif\u001b[39;00m endog\u001b[39m.\u001b[39mdtype \u001b[39m==\u001b[39m \u001b[39mobject\u001b[39m \u001b[39mor\u001b[39;00m exog \u001b[39mis\u001b[39;00m \u001b[39mnot\u001b[39;00m \u001b[39mNone\u001b[39;00m \u001b[39mand\u001b[39;00m exog\u001b[39m.\u001b[39mdtype \u001b[39m==\u001b[39m \u001b[39mobject\u001b[39m:\n\u001b[1;32m--> 509\u001b[0m     \u001b[39mraise\u001b[39;00m \u001b[39mValueError\u001b[39;00m(\u001b[39m\"\u001b[39m\u001b[39mPandas data cast to numpy dtype of object. \u001b[39m\u001b[39m\"\u001b[39m\n\u001b[0;32m    510\u001b[0m                      \u001b[39m\"\u001b[39m\u001b[39mCheck input data with np.asarray(data).\u001b[39m\u001b[39m\"\u001b[39m)\n\u001b[0;32m    511\u001b[0m \u001b[39mreturn\u001b[39;00m \u001b[39msuper\u001b[39m(PandasData, \u001b[39mself\u001b[39m)\u001b[39m.\u001b[39m_convert_endog_exog(endog, exog)\n",
      "\u001b[1;31mValueError\u001b[0m: Pandas data cast to numpy dtype of object. Check input data with np.asarray(data)."
     ]
    }
   ],
   "source": [
    "# ETS prediction\n",
    "Kedah_pred = ets_fore(df['Kedah'])\n",
    "Pahang_pred = ets_fore(df['Pahang'])\n",
    "Sabah_pred = ets_fore(df['Sabah'])\n",
    "Selangor_pred = ets_fore(df['Selangor'])\n",
    "Malaysia_pred = ets_fore(df['Total'])\n",
    "\n",
    "# ARIMA prediction\n",
    "Johor_pred = ARIMA_fore(df['Johor'])\n",
    "kelantan_pred = ARIMA_fore(df['Kelantan'])\n",
    "Melaka_pred = ARIMA_fore(df['Melaka'])\n",
    "Negeri_Sembilan_pred = ARIMA_fore(df['Negeri Sembilan'])\n",
    "Penang_pred = ARIMA_fore(df['Pulau Pinang'])\n",
    "Perak_pred = ARIMA_fore(df['Perak'])\n",
    "Perlis_pred = ARIMA_fore(df['Perlis'])\n",
    "Sarawak_pred = ARIMA_fore(df['Sarawak'])\n",
    "Terengganu_pred = ARIMA_fore(df['Terengganu'])\n",
    "WP_Kuala_Lumpur_pred = ARIMA_fore(df['W.P Kuala Lumpur'])\n",
    "WP_Labuan_pred = ARIMA_fore(df['W.P Labuan'])\n",
    "WP_Putrajaya_pred = ARIMA_fore(df['W.P Putrajaya'])"
   ]
  },
  {
   "cell_type": "markdown",
   "metadata": {},
   "source": [
    "# Job Vacancy Rate Forecast"
   ]
  },
  {
   "cell_type": "code",
   "execution_count": null,
   "metadata": {},
   "outputs": [],
   "source": [
    "# ETS prediction\n",
    "VETS_Kedah = ets_fore(df['Kedah'])\n",
    "VETS_Melaka = ets_fore(df['Melaka'])\n",
    "VETS_Negeri_Sembilan = ets_fore(df['Negeri Sembilan'])\n",
    "VETS_Pahang = ets_fore(df['Pahang'])\n",
    "VETS_Perlis = ets_fore(df['Perlis'])\n",
    "VETS_Terengganu = ets_fore(df['Terengganu'])\n",
    "VETS_Sabah = ets_fore(df['Sabah'])\n",
    "VETS_Sarawak = ets_fore(df['Sarawak'])\n",
    "VETS_Putrajaya = ets_fore(df['W.P Putrajaya'])\n",
    "\n",
    "# ARIMA prediction\n",
    "VETS_Johor = ARIMA_fore(df['Johor'])\n",
    "VETS_Kelantan = ARIMA_fore(df['Kelantan'])\n",
    "VETS_Penang = ARIMA_fore(df['Pulau Pinang'])\n",
    "VETS_Perak = ARIMA_fore(df['Perak'])\n",
    "VETS_Selangor = ARIMA_fore(df['Selangor'])\n",
    "VETS_Kuala_Lumpur = ARIMA_fore(df['W.P Kuala Lumpur'])\n",
    "VETS_Labuan = ARIMA_fore(df['W.P Labuan'])\n",
    "VETS_Total = ARIMA_fore(df['Total'])"
   ]
  },
  {
   "cell_type": "markdown",
   "metadata": {},
   "source": [
    "# Model and Output"
   ]
  },
  {
   "cell_type": "code",
   "execution_count": null,
   "metadata": {},
   "outputs": [],
   "source": [
    "def forecast_plot(state):\n",
    "    state = state.title()\n",
    "    if state == 'Kedah':\n",
    "        pred = Kedah_pred\n",
    "        fig, ax1 = plt.subplots()\n",
    "        plt.figure(figsize=(12, 8))\n",
    "        ax1.plot(df['Kedah'], label='Actual')\n",
    "        ax1.plot(pred, label='Forecast')\n",
    "        ax1.legend(loc='best')\n",
    "        ax1.show()\n",
    "\n",
    "        ax2 = ax1.twinx()\n",
    "        ax2.plot(df_unemployment['Kedah'], 'r', label='Unemployment Rate')\n",
    "        ax2.legend(loc='upper right')\n",
    "        ax2.show()\n",
    "        \n",
    "    elif state == 'Pahang':\n",
    "        pred = Pahang_pred\n",
    "        plt.figure(figsize=(12, 8))\n",
    "        ax1.plot(df['Pahang'], label='Actual')\n",
    "        ax1.plot(pred, label='Forecast')\n",
    "        ax1.title('forecast for Pahang')\n",
    "        ax1.legend(loc='best')\n",
    "        ax1.show()\n",
    "    elif state == 'Sabah':\n",
    "        pred = Sabah_pred\n",
    "        ax1.figure(figsize=(12, 8))\n",
    "        ax1.plot(df['Sabah'], label='Actual')\n",
    "        ax1.plot(pred, label='Forecast')\n",
    "        ax1.title('forecast for Sabah')\n",
    "        ax1.legend(loc='best')\n",
    "        ax1.show()\n",
    "    elif state == 'Selangor':\n",
    "        pred = Selangor_pred\n",
    "        ax1.figure(figsize=(12, 8))\n",
    "        ax1.plot(df['Selangor'], label='Actual')\n",
    "        ax1.plot(pred, label='Forecast')\n",
    "        ax1.title('forecast for Selangor')\n",
    "        ax1.legend(loc='best')\n",
    "        ax1.show()\n",
    "    elif state == 'Johor':\n",
    "        pred = Johor_pred\n",
    "        ax1.figure(figsize=(12, 8))\n",
    "        ax1.plot(df['Johor'], label='Actual')\n",
    "        ax1.plot(pred, label='Forecast')\n",
    "        ax1.title('forecast for Johor')\n",
    "        ax1.legend(loc='best')\n",
    "        ax1.show()\n",
    "    elif state == 'Kelantan':\n",
    "        pred = kelantan_pred\n",
    "        plt.figure(figsize=(12, 8))\n",
    "        ax1.plot(df['Kelantan'], label='Actual')\n",
    "        ax1.plot(pred, label='Forecast')\n",
    "        ax1.title('forecast for Kelantan')\n",
    "        ax1.legend(loc='best')\n",
    "        ax1.show()\n",
    "    elif state == 'Melaka':\n",
    "        pred = Melaka_pred\n",
    "        ax1.figure(figsize=(12, 8))\n",
    "        ax1.plot(df['Melaka'], label='Actual')\n",
    "        ax1.plot(pred, label='Forecast')\n",
    "        ax1.title('forecast for Melaka')\n",
    "        ax1.legend(loc='best')\n",
    "        ax1.show()\n",
    "    elif state == 'Negeri Sembilan':\n",
    "        pred = Negeri_Sembilan_pred\n",
    "        plt.figure(figsize=(12, 8))\n",
    "        ax1.plot(df['Negeri Sembilan'], label='Actual')\n",
    "        ax1.plot(pred, label='Forecast')\n",
    "        ax1.title('forecast for Negeri Sembilan')\n",
    "        ax1.legend(loc='best')\n",
    "        ax1.show()\n",
    "    elif state == 'Pulau Pinang':\n",
    "        pred = Penang_pred\n",
    "        ax1.figure(figsize=(12, 8))\n",
    "        ax1.plot(df['Pulau Pinang'], label='Actual')\n",
    "        ax1.plot(pred, label='Forecast')\n",
    "        ax1.title('forecast for Pulau Pinang')\n",
    "        ax1.legend(loc='best')\n",
    "        ax1.show()\n",
    "    elif state == 'Perak':\n",
    "        pred = Perak_pred\n",
    "        ax1.figure(figsize=(12, 8))\n",
    "        ax1.plot(df['Perak'], label='Actual')\n",
    "        ax1.plot(pred, label='Forecast')\n",
    "        ax1.title('forecast for Perak')\n",
    "        ax1.legend(loc='best')\n",
    "        ax1.show()\n",
    "    elif state == 'Perlis':\n",
    "        pred = Perlis_pred\n",
    "        plt.figure(figsize=(12, 8))\n",
    "        ax1.plot(df['Perlis'], label='Actual')\n",
    "        ax1.plot(pred, label='Forecast')\n",
    "        ax1.title('forecast for Perlis')\n",
    "        ax1.legend(loc='best')\n",
    "        ax1.show()\n",
    "    elif state == 'Sarawak':\n",
    "        pred = Sarawak_pred\n",
    "        plt.figure(figsize=(12, 8))\n",
    "        ax1.plot(df['Sarawak'], label='Actual')\n",
    "        ax1.plot(pred, label='Forecast')\n",
    "        ax1.title('forecast for Sarawak')\n",
    "        ax1.legend(loc='best')\n",
    "        ax1.show()\n",
    "    elif state == 'Terengganu':\n",
    "        pred = Terengganu_pred\n",
    "        plt.figure(figsize=(12, 8))\n",
    "        ax1.plot(df['Terengganu'], label='Actual')\n",
    "        ax1.plot(pred, label='Forecast')\n",
    "        ax1.title('forecast for Terengganu')\n",
    "        ax1.legend(loc='best')\n",
    "        ax1.show()\n",
    "    elif state == 'Kuala Lumpur':\n",
    "        pred = WP_Kuala_Lumpur_pred\n",
    "        plt.figure(figsize=(12, 8))\n",
    "        ax1.plot(df['W.P Kuala Lumpur'], label='Actual')\n",
    "        ax1.plot(pred, label='Forecast')\n",
    "        ax1.title('forecast for W.P Kuala Lumpur')\n",
    "        ax1.legend(loc='best')\n",
    "        ax1.show()\n",
    "    elif state == 'Labuan':\n",
    "        pred = WP_Labuan_pred\n",
    "        plt.figure(figsize=(12, 8))\n",
    "        ax1.plot(df['W.P Labuan'], label='Actual')\n",
    "        ax1.plot(pred, label='Forecast')\n",
    "        ax1.title('forecast for W.P Labuan')\n",
    "        ax1.legend(loc='best')\n",
    "        ax1.show()\n",
    "    elif state == 'Putrajaya':\n",
    "        pred = WP_Putrajaya_pred\n",
    "        plt.figure(figsize=(12, 8))\n",
    "        ax1.plot(df['W.P Putrajaya'], label='Actual')\n",
    "        ax1.plot(pred, label='Forecast')\n",
    "        ax1.title('forecast for W.P Putrajaya')\n",
    "        ax1.legend(loc='best')\n",
    "        ax1.show()\n",
    "    else: \n",
    "        pred = Malaysia_pred\n",
    "        plt.figure(figsize=(12, 8))\n",
    "        ax1.plot(df['Total'], label='Actual')\n",
    "        ax1.plot(pred, label='Forecast')\n",
    "        ax1.title('forecast for W.P Putrajaya')\n",
    "        ax1.legend(loc='best')\n",
    "        ax1.show()\n"
   ]
  },
  {
   "cell_type": "code",
   "execution_count": null,
   "metadata": {},
   "outputs": [],
   "source": [
    "forecast_plot(\"kedah\")"
   ]
  }
 ],
 "metadata": {
  "kernelspec": {
   "display_name": "Python 3",
   "language": "python",
   "name": "python3"
  },
  "language_info": {
   "codemirror_mode": {
    "name": "ipython",
    "version": 3
   },
   "file_extension": ".py",
   "mimetype": "text/x-python",
   "name": "python",
   "nbconvert_exporter": "python",
   "pygments_lexer": "ipython3",
   "version": "3.12.0"
  }
 },
 "nbformat": 4,
 "nbformat_minor": 2
}
