{
 "cells": [
  {
   "cell_type": "code",
   "execution_count": 22,
   "metadata": {},
   "outputs": [
    {
     "name": "stdout",
     "output_type": "stream",
     "text": [
      "Thank you for the information!\n"
     ]
    }
   ],
   "source": [
    "#previous job data collection\n",
    "\n",
    "import pandas as pd\n",
    "\n",
    "# Input customer data\n",
    "p_job = input(\"Please enter the your previous/current job: \")\n",
    "job = input(\"Please enter the job decription: \")\n",
    "mqf = input(\"Please enter your qualification level(1 to 8): \")\n",
    "skill = input(\"Please enter the skills required, separated by commas: \")\n",
    "salary = float(input(\"Please enter the actual monthly salary: \"))\n",
    "e_salary = float(input(\"Please enter your expected monthly salary for this job: \"))\n",
    "\n",
    "# Create a DataFrame with the new data\n",
    "new_data = pd.DataFrame({\n",
    "    'sector': [p_job],\n",
    "    'job description': [job],\n",
    "    'qualification': [mqf],\n",
    "    'skills': [skill],\n",
    "    'salary': [salary],\n",
    "    'expected salary': [e_salary]\n",
    "})\n",
    "\n",
    "# Load the existing Excel file\n",
    "existing_excel_file = 'skill by sector.xlsx'\n",
    "try:\n",
    "    existing_data = pd.read_excel(existing_excel_file)\n",
    "except FileNotFoundError:\n",
    "    # If the file does not exist, create a new DataFrame\n",
    "    existing_data = pd.DataFrame(columns=['sector','job description','qualification','skills','salary','expected salary'])\n",
    "\n",
    "# Append the new data to the existing data\n",
    "updated_data = pd.concat([existing_data, new_data], ignore_index=True)\n",
    "\n",
    "# Save the updated data to the same Excel file\n",
    "updated_data.to_excel(existing_excel_file, index=False)\n",
    "\n",
    "print(\"Thank you for the information!\")\n"
   ]
  }
 ],
 "metadata": {
  "kernelspec": {
   "display_name": "Python 3",
   "language": "python",
   "name": "python3"
  },
  "language_info": {
   "codemirror_mode": {
    "name": "ipython",
    "version": 3
   },
   "file_extension": ".py",
   "mimetype": "text/x-python",
   "name": "python",
   "nbconvert_exporter": "python",
   "pygments_lexer": "ipython3",
   "version": "3.12.0"
  }
 },
 "nbformat": 4,
 "nbformat_minor": 2
}
