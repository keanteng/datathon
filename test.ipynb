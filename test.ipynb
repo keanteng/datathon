{
 "cells": [
  {
   "cell_type": "markdown",
   "metadata": {},
   "source": [
    "# 1. Import Library"
   ]
  },
  {
   "cell_type": "code",
   "execution_count": null,
   "metadata": {},
   "outputs": [],
   "source": [
    "# Setup notebook\n",
    "from pathlib import Path\n",
    "import ipywidgets as widgets\n",
    "import pandas as pd\n",
    "import matplotlib.pyplot as plt\n",
    "from sklearn.linear_model import LinearRegression\n",
    "from sklearn.multioutput import RegressorChain\n",
    "from sklearn.preprocessing import LabelEncoder\n",
    "from xgboost import XGBRegressor\n",
    "import seaborn as sns\n",
    "from statsmodels.tsa.stattools import adfuller\n",
    "from pmdarima.arima import auto_arima\n",
    "from math import sqrt\n",
    "from sklearn.metrics import mean_squared_error\n",
    "from statsmodels.tsa.deterministic import DeterministicProcess\n",
    "from statsmodels.tsa.deterministic import CalendarFourier, DeterministicProcess\n"
   ]
  },
  {
   "cell_type": "markdown",
   "metadata": {},
   "source": [
    "# 2. Load Dataset"
   ]
  },
  {
   "cell_type": "code",
   "execution_count": null,
   "metadata": {},
   "outputs": [],
   "source": [
    "# import data set\n",
    "data_dir = Path('../datathon')\n",
    "\n",
    "# read data set\n",
    "df = pd.read_csv(data_dir / 'labourforce_monthly.csv', parse_dates=['date'])\n",
    "df.head()\n",
    "\n",
    "# remove the empty columns\n",
    "df = df.dropna(axis=1, how='all')\n",
    "\n",
    "# Remove all the unnecessary columns only left the date and unemployed columns\n",
    "df = df[['date', 'unemployed']]\n",
    "df.index = df.date\n",
    "data_date = df.date\n",
    "\n",
    "# plot the data set\n",
    "fig, ax = plt.subplots(figsize=(8, 4))\n",
    "plt.plot(df.date, df.unemployed, label='train')\n",
    "\n",
    "# add title and legend to the plot\n",
    "plt.title('Unemployed Rate from 2010 to 2023 in Malaysia')\n",
    "\n",
    "# remove date column in df\n",
    "df = df.drop('date', axis=1)\n",
    "\n",
    "print(df.head())"
   ]
  },
  {
   "cell_type": "markdown",
   "metadata": {},
   "source": [
    "# 4. Split the Data set into train and test set"
   ]
  },
  {
   "cell_type": "code",
   "execution_count": null,
   "metadata": {},
   "outputs": [],
   "source": [
    "import matplotlib.pyplot as plt\n",
    "# split the data set into train and test\n",
    "train = df[df.index < '2019-01-01']\n",
    "test = df[df.index >= '2019-01-01']\n",
    "train.shape, test.shape\n"
   ]
  },
  {
   "cell_type": "code",
   "execution_count": null,
   "metadata": {},
   "outputs": [],
   "source": [
    "df[df.index >= '2020-01-01']"
   ]
  },
  {
   "cell_type": "markdown",
   "metadata": {},
   "source": [
    "# 5. Linear Regression with Regression"
   ]
  },
  {
   "cell_type": "code",
   "execution_count": null,
   "metadata": {},
   "outputs": [],
   "source": [
    "# make the regression plot\n",
    "fig, ax = plt.subplots()\n",
    "ax.plot(\"unemployed\", data = df, label='observed', color='#006699')\n",
    "ax = sns.regplot(y=\"unemployed\", data = df, label='trend', color='#ff6600')\n",
    "ax.set_title('Time Plot of Unemployment rate from 2010 to 2019 in Malaysia')\n",
    "plt.xlabel('Date')\n",
    "plt.ylabel('Unemployment Rate')\n",
    "plt.show()"
   ]
  }
 ],
 "metadata": {
  "kernelspec": {
   "display_name": "Python 3",
   "language": "python",
   "name": "python3"
  },
  "language_info": {
   "codemirror_mode": {
    "name": "ipython",
    "version": 3
   },
   "file_extension": ".py",
   "mimetype": "text/x-python",
   "name": "python",
   "nbconvert_exporter": "python",
   "pygments_lexer": "ipython3",
   "version": "3.12.0"
  }
 },
 "nbformat": 4,
 "nbformat_minor": 2
}
